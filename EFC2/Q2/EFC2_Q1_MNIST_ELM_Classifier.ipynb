{
  "nbformat": 4,
  "nbformat_minor": 0,
  "metadata": {
    "colab": {
      "name": "EFC2_Q1 - MNIST ELM Classifier.ipynb",
      "provenance": [],
      "collapsed_sections": []
    },
    "kernelspec": {
      "name": "python3",
      "display_name": "Python 3"
    }
  },
  "cells": [
    {
      "cell_type": "markdown",
      "metadata": {
        "id": "aibQMqn3rEp8",
        "colab_type": "text"
      },
      "source": [
        "# MNIST ELM Classifier"
      ]
    },
    {
      "cell_type": "markdown",
      "metadata": {
        "id": "399F2GKforfi",
        "colab_type": "text"
      },
      "source": [
        "Author: **Rafael Ito**  \n",
        "e-mail: ito.rafael@gmail.com"
      ]
    },
    {
      "cell_type": "markdown",
      "metadata": {
        "id": "eV7swfVuBvgm",
        "colab_type": "text"
      },
      "source": [
        "# 0. Dataset and Description\n",
        "\n",
        "**Name:**  MNIST  \n",
        "**Description:** this notebook uses the MNIST database to perform an ELM (extreme learning machine) linear classifier with the aim of image classification of handwritten digits. We use the validation set to choose the hyperparameter alpha, which is the regularization coefficient (rigde regression, norm 2)."
      ]
    },
    {
      "cell_type": "markdown",
      "metadata": {
        "id": "ZnLtgkmhr0y0",
        "colab_type": "text"
      },
      "source": [
        "# 1. Libraries and packages"
      ]
    },
    {
      "cell_type": "markdown",
      "metadata": {
        "id": "wF94hPU1HWt9",
        "colab_type": "text"
      },
      "source": [
        "## 1.1 Install packages"
      ]
    },
    {
      "cell_type": "code",
      "metadata": {
        "id": "44YWHZaqwDo4",
        "colab_type": "code",
        "colab": {}
      },
      "source": [
        "!pip install -q \\\n",
        "    numpy       \\\n",
        "    sklearn     \\\n",
        "    matplotlib  "
      ],
      "execution_count": 0,
      "outputs": []
    },
    {
      "cell_type": "markdown",
      "metadata": {
        "id": "F-lNBFD0HcPb",
        "colab_type": "text"
      },
      "source": [
        "## 1.2 Import libraries"
      ]
    },
    {
      "cell_type": "code",
      "metadata": {
        "id": "XYPw4vBWq_nd",
        "colab_type": "code",
        "outputId": "8468f44f-ccb7-44de-f7fa-58ee9309fed3",
        "colab": {
          "base_uri": "https://localhost:8080/",
          "height": 76
        }
      },
      "source": [
        "#-------------------------------------------------\n",
        "# general\n",
        "#-------------------\n",
        "import numpy as np\n",
        "import pandas as pd\n",
        "import scipy.io as sio\n",
        "#-------------------------------------------------\n",
        "# scikit-learn\n",
        "#-------------------\n",
        "from sklearn.preprocessing import OneHotEncoder\n",
        "from sklearn.model_selection import train_test_split\n",
        "# metrics\n",
        "from sklearn.metrics import mean_squared_error\n",
        "from sklearn.metrics import zero_one_loss\n",
        "from sklearn.metrics import accuracy_score\n",
        "from sklearn.metrics import precision_score\n",
        "from sklearn.metrics import recall_score\n",
        "from sklearn.metrics import f1_score\n",
        "from sklearn.metrics import confusion_matrix\n",
        "from sklearn.metrics import classification_report as cr\n",
        "#-------------------------------------------------\n",
        "# data visualization\n",
        "#-------------------\n",
        "import matplotlib.pyplot as plt\n",
        "import seaborn as sns\n",
        "#-------------------------------------------------\n",
        "# additional config\n",
        "#-------------------\n",
        "# random seed generator\n",
        "np.random.seed(42)"
      ],
      "execution_count": 2,
      "outputs": [
        {
          "output_type": "stream",
          "text": [
            "/usr/local/lib/python3.6/dist-packages/statsmodels/tools/_testing.py:19: FutureWarning: pandas.util.testing is deprecated. Use the functions in the public API at pandas.testing instead.\n",
            "  import pandas.util.testing as tm\n"
          ],
          "name": "stderr"
        }
      ]
    },
    {
      "cell_type": "markdown",
      "metadata": {
        "id": "Rmn8887vHg2C",
        "colab_type": "text"
      },
      "source": [
        "## 1.3 Check device"
      ]
    },
    {
      "cell_type": "code",
      "metadata": {
        "id": "YXc7eeN9HjNh",
        "colab_type": "code",
        "colab": {}
      },
      "source": [
        "# device = torch.device('cpu')\n",
        "# if torch.cuda.is_available():\n",
        "#     device = torch.device('cuda')\n",
        "# print('Device:', device)"
      ],
      "execution_count": 0,
      "outputs": []
    },
    {
      "cell_type": "markdown",
      "metadata": {
        "id": "Fb_hxbel26WM",
        "colab_type": "text"
      },
      "source": [
        "## 1.4 Constants definition"
      ]
    },
    {
      "cell_type": "code",
      "metadata": {
        "id": "pf3IfhKW2474",
        "colab_type": "code",
        "colab": {}
      },
      "source": [
        "# these are the values of alpha (regularization coefficient) that will be used to perform a first search \n",
        "#alpha_interval = [2**-10, 2**-8, 2**-6, 2**-4, 2**-2, 2**0, 2**2, 2**4, 2**6, 2**8, 2**10]\n",
        "alpha_interval = [2**-10, 2**-8, 2**-6, 2**-4, 2**-2, 2**0, 2**2, 2**4, 2**6, 2**8, 2**10, 2**11, 2**12, 2**13]"
      ],
      "execution_count": 0,
      "outputs": []
    },
    {
      "cell_type": "markdown",
      "metadata": {
        "id": "g8cTjVNEoJkJ",
        "colab_type": "text"
      },
      "source": [
        "# 2. Custom functions and classes"
      ]
    },
    {
      "cell_type": "markdown",
      "metadata": {
        "id": "P9DFW3xLoWD4",
        "colab_type": "text"
      },
      "source": [
        "## 2.1 Functions"
      ]
    },
    {
      "cell_type": "markdown",
      "metadata": {
        "id": "n99mLoDQtRZn",
        "colab_type": "text"
      },
      "source": [
        "One-hot enconding (inverse transform)"
      ]
    },
    {
      "cell_type": "code",
      "metadata": {
        "id": "Dsc8yw36sN0Q",
        "colab_type": "code",
        "colab": {}
      },
      "source": [
        "# one-hot encoding\n",
        "enc = OneHotEncoder()\n",
        "enc.fit(np.arange(10).reshape(-1,1));"
      ],
      "execution_count": 0,
      "outputs": []
    },
    {
      "cell_type": "code",
      "metadata": {
        "id": "qkqKIAg1VWdM",
        "colab_type": "code",
        "colab": {}
      },
      "source": [
        "def get_label(one_hot, encoder=enc):\n",
        "    # the \"+1\" is because digit 0 is actually class 10\n",
        "    return (enc.inverse_transform(one_hot.reshape(-1,10)) + 1) % 10"
      ],
      "execution_count": 0,
      "outputs": []
    },
    {
      "cell_type": "markdown",
      "metadata": {
        "id": "Fu0QQ_1YtYpo",
        "colab_type": "text"
      },
      "source": [
        "Get number of samples for each class"
      ]
    },
    {
      "cell_type": "code",
      "metadata": {
        "id": "wBNAiGTsSTY_",
        "colab_type": "code",
        "colab": {}
      },
      "source": [
        "def samples4classes(label, debug=False):\n",
        "    count = np.zeros(10, dtype=int)\n",
        "    for classes in range(10):\n",
        "        count[classes] = np.count_nonzero(label == classes)\n",
        "        if(debug):\n",
        "            print('Samples from class', (classes+1)%10, '=', count[classes])\n",
        "    return count"
      ],
      "execution_count": 0,
      "outputs": []
    },
    {
      "cell_type": "markdown",
      "metadata": {
        "id": "4ojkmfP2pTvM",
        "colab_type": "text"
      },
      "source": [
        "Confusion Matrix"
      ]
    },
    {
      "cell_type": "code",
      "metadata": {
        "id": "U_721o1dp-yp",
        "colab_type": "code",
        "colab": {}
      },
      "source": [
        "def print_confusion_matrix(confusion_matrix, class_names, title=None, normalize=False, cmap=plt.cm.Blues, figsize = (10,7), fontsize=14):\n",
        "    # normalized or raw CM\n",
        "    if normalize:\n",
        "        confusion_matrix = confusion_matrix.astype('float') / confusion_matrix.sum(axis=1)[:, np.newaxis]\n",
        "        fmt = '.2f'\n",
        "    else:\n",
        "        fmt = 'd'\n",
        "    #----------------------------\n",
        "    df_cm = pd.DataFrame(confusion_matrix, index=class_names, columns=class_names)\n",
        "    fig = plt.figure(figsize=figsize)\n",
        "    try:\n",
        "        heatmap = sns.heatmap(df_cm, annot=True, fmt=fmt, cmap=cmap)\n",
        "    except ValueError:\n",
        "        raise ValueError(\"Confusion matrix values must be integers.\")\n",
        "    #----------------------------\n",
        "    # fix matplotlib 3.1.1 bug\n",
        "    #heatmap.get_ylim() --> (5.5, 0.5)\n",
        "    #heatmap.set_ylim(6.0, 0)\n",
        "    #----------------------------\n",
        "    heatmap.yaxis.set_ticklabels(heatmap.yaxis.get_ticklabels(), rotation=0, ha='right', fontsize=fontsize)\n",
        "    heatmap.xaxis.set_ticklabels(heatmap.xaxis.get_ticklabels(), rotation=45, ha='right', fontsize=fontsize)\n",
        "    plt.title(title)\n",
        "    plt.ylabel('True label')\n",
        "    plt.xlabel('Predicted label')\n",
        "    return fig"
      ],
      "execution_count": 0,
      "outputs": []
    },
    {
      "cell_type": "markdown",
      "metadata": {
        "id": "Gs9gaFtqq3aQ",
        "colab_type": "text"
      },
      "source": [
        "Function that calculate the W"
      ]
    },
    {
      "cell_type": "code",
      "metadata": {
        "id": "XIvl768Awba8",
        "colab_type": "code",
        "colab": {}
      },
      "source": [
        "def pseudoinverse(phi, y, alpha=0):\n",
        "    # identity matrix (with first element = 0) used for rigde regression\n",
        "    I = np.identity(phi.shape[1])\n",
        "    I[0][0] = 0\n",
        "    W = np.linalg.inv((phi.T @ phi) + (alpha * I)) @ phi.T @ y\n",
        "    return W"
      ],
      "execution_count": 0,
      "outputs": []
    },
    {
      "cell_type": "markdown",
      "metadata": {
        "id": "MeuGixt1fo8v",
        "colab_type": "text"
      },
      "source": [
        "Calculate weigths, loss and accuracy"
      ]
    },
    {
      "cell_type": "code",
      "metadata": {
        "id": "thrNTYXNjKI0",
        "colab_type": "code",
        "colab": {}
      },
      "source": [
        "def train_and_val(X_train, y_train_oh, X_valid, y_valid_oh, y_valid, alpha):\n",
        "    # calculate weights\n",
        "    W = pseudoinverse(X_train, y_train_oh, alpha)   # calculate weights\n",
        "    #-------------------\n",
        "    # validation\n",
        "    y_logits = X_valid @ W\n",
        "    loss = mean_squared_error(y_valid_oh, y_logits) # calculate MSE\n",
        "    y_pred = np.argmax(y_logits, axis=1)            # y predicted\n",
        "    zero_one_error = zero_one_loss(y_valid, y_pred) # calculate zero-one loss\n",
        "    return loss, zero_one_error"
      ],
      "execution_count": 0,
      "outputs": []
    },
    {
      "cell_type": "markdown",
      "metadata": {
        "id": "sORQ0Z1lrnm1",
        "colab_type": "text"
      },
      "source": [
        "Golden-section one-dimensional search"
      ]
    },
    {
      "cell_type": "code",
      "metadata": {
        "id": "nDI7r3t6rn0w",
        "colab_type": "code",
        "colab": {}
      },
      "source": [
        "def find_alpha(X_train, y_train_oh, X_valid, y_valid_oh, y_valid, a, b, d, Je, criterion):\n",
        "    # a and b: initial interval of uncertainty\n",
        "    # d: desired final interval size\n",
        "    # gr: golden ratio = (np.sqrt(5) - 1)/2\n",
        "    # L (lambda): midpoint used by the algorithm\n",
        "    # M (mi): midpoint used by the algorithm\n",
        "    # criterior: accuracy or loss\n",
        "    #----------------------------\n",
        "    if criterion == 'accuracy':\n",
        "        index = 1\n",
        "    elif criterion == 'loss':\n",
        "        index = 0\n",
        "    else:\n",
        "        raise ValueError(\"Criterion should be either 'accuracy' or 'loss'\")\n",
        "    #----------------------------\n",
        "    gr = 0.618\n",
        "    L = a + (1 - gr)*(b - a)\n",
        "    M = a + gr*(b - a)\n",
        "    J_lambda = Je(X_train, y_train_oh, X_valid, y_valid_oh, y_valid, alpha=L)[index]\n",
        "    J_mi = Je(X_train, y_train_oh, X_valid, y_valid_oh, y_valid, alpha=M)[index]\n",
        "    #----------------------------\n",
        "    index_his = [J_lambda, J_mi]\n",
        "    alpha_his = [L, M]\n",
        "    #----------------------------\n",
        "    while ( (abs(a-b)/2) >= d ):\n",
        "        if (J_lambda > J_mi):\n",
        "            a = L\n",
        "            L = M\n",
        "            M = a + gr*(b - a)\n",
        "            J_lambda = J_mi\n",
        "            J_mi = Je(X_train, y_train_oh, X_valid, y_valid_oh, y_valid, alpha=M)[index]\n",
        "            index_his.append(J_mi)\n",
        "            alpha_his.append(M)\n",
        "        else:\n",
        "            b = M\n",
        "            M = L\n",
        "            L = a + (1 - gr)*(b - a)\n",
        "            J_mi = J_lambda\n",
        "            J_lambda = Je(X_train, y_train_oh, X_valid, y_valid_oh, y_valid, alpha=L)[index]\n",
        "            index_his.append(J_lambda)\n",
        "            alpha_his.append(L)\n",
        "    alpha = (a + b)/2\n",
        "    return alpha, alpha_his, index_his"
      ],
      "execution_count": 0,
      "outputs": []
    },
    {
      "cell_type": "markdown",
      "metadata": {
        "id": "RFUyfIPzQ4Bh",
        "colab_type": "text"
      },
      "source": [
        "Function to plot heatmap of digits classification"
      ]
    },
    {
      "cell_type": "code",
      "metadata": {
        "id": "uCcdQkhcOUt4",
        "colab_type": "code",
        "colab": {}
      },
      "source": [
        "def plot_heatmap(number, path):\n",
        "    ex = (W_plot[:,number-1].reshape(28,28))                    # get only column for the number\n",
        "    #sns.heatmap(denorm(ex.T), cmap=\"viridis\")                  # plot the heatmap using seaborn\n",
        "    plt.matshow(denorm(ex.T))                                   # plot the heatmap using matplotlib\n",
        "    plt.savefig(path + 'digit_' + str(number) + '.png', dpi=300) # save figure"
      ],
      "execution_count": 0,
      "outputs": []
    },
    {
      "cell_type": "markdown",
      "metadata": {
        "colab_type": "text",
        "id": "JaJBUKXeKMZZ"
      },
      "source": [
        "## 2.2 Classes"
      ]
    },
    {
      "cell_type": "markdown",
      "metadata": {
        "id": "9bPE5Iw9KYv6",
        "colab_type": "text"
      },
      "source": [
        "Class to denormalize pixels values"
      ]
    },
    {
      "cell_type": "code",
      "metadata": {
        "id": "Kp04oztOZxi5",
        "colab_type": "code",
        "colab": {}
      },
      "source": [
        "class denormalization():\n",
        "    def __init__(self, base_value):\n",
        "        self.base_value = base_value\n",
        "    def __call__(self, norm_values):\n",
        "        new_values = norm_values*self.base_value\n",
        "        return new_values.astype(int)      #NumPy\n",
        "        #return new_values.type(torch.uint8) #PyTorch"
      ],
      "execution_count": 0,
      "outputs": []
    },
    {
      "cell_type": "code",
      "metadata": {
        "id": "srcsL470OsPj",
        "colab_type": "code",
        "colab": {}
      },
      "source": [
        "denorm = denormalization(255)"
      ],
      "execution_count": 0,
      "outputs": []
    },
    {
      "cell_type": "markdown",
      "metadata": {
        "id": "C4IayX1HsCyC",
        "colab_type": "text"
      },
      "source": [
        "# 3. Dataset"
      ]
    },
    {
      "cell_type": "markdown",
      "metadata": {
        "id": "QS8YeBbWH7rF",
        "colab_type": "text"
      },
      "source": [
        "## 3.1 Mount dataset"
      ]
    },
    {
      "cell_type": "code",
      "metadata": {
        "id": "yjdm_8KjL_tO",
        "colab_type": "code",
        "outputId": "5c88f309-4383-4a31-f4b9-e3b4c4929eef",
        "colab": {
          "base_uri": "https://localhost:8080/",
          "height": 36
        }
      },
      "source": [
        "from google.colab import drive\n",
        "drive.mount('/content/drive')"
      ],
      "execution_count": 15,
      "outputs": [
        {
          "output_type": "stream",
          "text": [
            "Drive already mounted at /content/drive; to attempt to forcibly remount, call drive.mount(\"/content/drive\", force_remount=True).\n"
          ],
          "name": "stdout"
        }
      ]
    },
    {
      "cell_type": "code",
      "metadata": {
        "id": "wXHwOYCBMF-6",
        "colab_type": "code",
        "colab": {}
      },
      "source": [
        "# root directory\n",
        "root_dir = '/content/drive/My Drive/Colab Notebooks/IA353A - Redes Neurais (1s2020)/EFC2/Q2/'\n",
        "# dataset files path\n",
        "train_path = root_dir + 'data.mat'\n",
        "test_path = root_dir + 'test.mat'"
      ],
      "execution_count": 0,
      "outputs": []
    },
    {
      "cell_type": "markdown",
      "metadata": {
        "id": "exdgZ9CkQhCo",
        "colab_type": "text"
      },
      "source": [
        "## 3.2 Read dataset"
      ]
    },
    {
      "cell_type": "code",
      "metadata": {
        "id": "XQMFsNXjQgZ6",
        "colab_type": "code",
        "colab": {}
      },
      "source": [
        "# read mat files\n",
        "train = sio.loadmat(train_path)\n",
        "test  = sio.loadmat(test_path)"
      ],
      "execution_count": 0,
      "outputs": []
    },
    {
      "cell_type": "code",
      "metadata": {
        "id": "--1J3uQ7NBFx",
        "colab_type": "code",
        "outputId": "0773f6d1-2474-4cb5-aec0-37f3e8e41420",
        "colab": {
          "base_uri": "https://localhost:8080/",
          "height": 114
        }
      },
      "source": [
        "# training set\n",
        "X = train['X']\n",
        "y_oh = train['S']\n",
        "#-------------------\n",
        "# test set\n",
        "X_test_raw = test['Xt']\n",
        "y_test_oh = test['St']\n",
        "#-------------------\n",
        "print('shape of X:', X.shape)\n",
        "print('shape of y:', y_oh.shape)\n",
        "print('#-------------------')\n",
        "print('shape of X_test:', X_test_raw.shape)\n",
        "print('shape of y_test:', y_test_oh.shape)"
      ],
      "execution_count": 18,
      "outputs": [
        {
          "output_type": "stream",
          "text": [
            "shape of X: (60000, 784)\n",
            "shape of y: (60000, 10)\n",
            "#-------------------\n",
            "shape of X_test: (10000, 784)\n",
            "shape of y_test: (10000, 10)\n"
          ],
          "name": "stdout"
        }
      ]
    },
    {
      "cell_type": "markdown",
      "metadata": {
        "id": "92GC23kpRa8i",
        "colab_type": "text"
      },
      "source": [
        "## 3.3 Number of samples for earch class"
      ]
    },
    {
      "cell_type": "markdown",
      "metadata": {
        "id": "RD-cupcxupNJ",
        "colab_type": "text"
      },
      "source": [
        "Training set"
      ]
    },
    {
      "cell_type": "code",
      "metadata": {
        "id": "aY9ps9yrsXN6",
        "colab_type": "code",
        "outputId": "37f315a6-5e52-47ee-ffb8-cfdebdf51bed",
        "colab": {
          "base_uri": "https://localhost:8080/",
          "height": 211
        }
      },
      "source": [
        "# Training + Validation set\n",
        "y_label = get_label(y_oh)\n",
        "samples4classes(y_label, debug=True);"
      ],
      "execution_count": 19,
      "outputs": [
        {
          "output_type": "stream",
          "text": [
            "Samples from class 1 = 5923\n",
            "Samples from class 2 = 6742\n",
            "Samples from class 3 = 5958\n",
            "Samples from class 4 = 6131\n",
            "Samples from class 5 = 5842\n",
            "Samples from class 6 = 5421\n",
            "Samples from class 7 = 5918\n",
            "Samples from class 8 = 6265\n",
            "Samples from class 9 = 5851\n",
            "Samples from class 0 = 5949\n"
          ],
          "name": "stdout"
        }
      ]
    },
    {
      "cell_type": "markdown",
      "metadata": {
        "id": "k8eg7NaduvXd",
        "colab_type": "text"
      },
      "source": [
        "Test set"
      ]
    },
    {
      "cell_type": "code",
      "metadata": {
        "id": "fTVNN6HEsZDi",
        "colab_type": "code",
        "outputId": "47978da1-8177-49e3-b7bb-5cd0c47c35cd",
        "colab": {
          "base_uri": "https://localhost:8080/",
          "height": 36
        }
      },
      "source": [
        "y_test_label = get_label(y_test_oh)\n",
        "samples4classes(y_test_label, debug=False)"
      ],
      "execution_count": 20,
      "outputs": [
        {
          "output_type": "execute_result",
          "data": {
            "text/plain": [
              "array([ 980, 1135, 1032, 1010,  982,  892,  958, 1028,  974, 1009])"
            ]
          },
          "metadata": {
            "tags": []
          },
          "execution_count": 20
        }
      ]
    },
    {
      "cell_type": "markdown",
      "metadata": {
        "id": "T98hwoc02E9P",
        "colab_type": "text"
      },
      "source": [
        "Training-Validation split"
      ]
    },
    {
      "cell_type": "code",
      "metadata": {
        "id": "9j6eeEfKUZI9",
        "colab_type": "code",
        "outputId": "458e9f99-05ad-43e3-de69-75cd5b82919b",
        "colab": {
          "base_uri": "https://localhost:8080/",
          "height": 56
        }
      },
      "source": [
        "X_train_raw, X_valid_raw, y_train_oh, y_valid_oh = train_test_split(X, y_oh, train_size=0.8)\n",
        "#-------------------\n",
        "print(X.shape)\n",
        "print(X_train_raw.shape)"
      ],
      "execution_count": 21,
      "outputs": [
        {
          "output_type": "stream",
          "text": [
            "(60000, 784)\n",
            "(48000, 784)\n"
          ],
          "name": "stdout"
        }
      ]
    },
    {
      "cell_type": "code",
      "metadata": {
        "id": "7cOU_WCrsqbO",
        "colab_type": "code",
        "outputId": "ca5d8d70-b852-42c0-a9d6-6e595a614031",
        "colab": {
          "base_uri": "https://localhost:8080/",
          "height": 56
        }
      },
      "source": [
        "print(samples4classes(get_label(y_oh)))\n",
        "print(samples4classes(get_label(y_valid_oh)))"
      ],
      "execution_count": 22,
      "outputs": [
        {
          "output_type": "stream",
          "text": [
            "[5923 6742 5958 6131 5842 5421 5918 6265 5851 5949]\n",
            "[1175 1322 1174 1219 1176 1104 1177 1299 1160 1194]\n"
          ],
          "name": "stdout"
        }
      ]
    },
    {
      "cell_type": "code",
      "metadata": {
        "id": "ouWibtL25kBs",
        "colab_type": "code",
        "colab": {}
      },
      "source": [
        "y_valid = enc.inverse_transform(y_valid_oh)\n",
        "y_train = enc.inverse_transform(y_train_oh)\n",
        "y_test = enc.inverse_transform(y_test_oh)"
      ],
      "execution_count": 0,
      "outputs": []
    },
    {
      "cell_type": "markdown",
      "metadata": {
        "id": "uCK0KtwLjXOB",
        "colab_type": "text"
      },
      "source": [
        "Creating \"hidden layer\" and applying non-linearity"
      ]
    },
    {
      "cell_type": "code",
      "metadata": {
        "id": "_DfEVdT8avn0",
        "colab_type": "code",
        "outputId": "d196af01-5d24-4fc0-b127-52726d897881",
        "colab": {
          "base_uri": "https://localhost:8080/",
          "height": 36
        }
      },
      "source": [
        "# normal distribution with std dev of 0.2\n",
        "H = np.random.normal(loc=0.0, scale=0.2, size=(784,500))\n",
        "print(H.shape)"
      ],
      "execution_count": 24,
      "outputs": [
        {
          "output_type": "stream",
          "text": [
            "(784, 500)\n"
          ],
          "name": "stdout"
        }
      ]
    },
    {
      "cell_type": "code",
      "metadata": {
        "id": "NDgdvL7Ravx7",
        "colab_type": "code",
        "outputId": "3e7db17f-34e0-40a1-88fa-45c1da2373cd",
        "colab": {
          "base_uri": "https://localhost:8080/",
          "height": 56
        }
      },
      "source": [
        "# calculate new features after \"hidden layer\"\n",
        "X_train_before = X_train_raw @ H\n",
        "X_valid_before = X_valid_raw @ H\n",
        "X_test_before = X_test_raw @ H\n",
        "#-------------------\n",
        "print(X_train_before.shape)\n",
        "print(X_valid_before.shape)"
      ],
      "execution_count": 25,
      "outputs": [
        {
          "output_type": "stream",
          "text": [
            "(48000, 500)\n",
            "(12000, 500)\n"
          ],
          "name": "stdout"
        }
      ]
    },
    {
      "cell_type": "code",
      "metadata": {
        "id": "IiDjomWNo8Qy",
        "colab_type": "code",
        "outputId": "1adef30b-2de3-459a-e9bc-1ac863944a71",
        "colab": {
          "base_uri": "https://localhost:8080/",
          "height": 56
        }
      },
      "source": [
        "# applying non-linearity (in this case, we are using ReLU)\n",
        "X_train = np.maximum(0, X_train_before)\n",
        "X_valid = np.maximum(0, X_valid_before)\n",
        "X_test = np.maximum(0, X_test_before)\n",
        "#-------------------\n",
        "print(X_train_before[0][:6])\n",
        "print(X_train[0][:6])\n"
      ],
      "execution_count": 26,
      "outputs": [
        {
          "output_type": "stream",
          "text": [
            "[-0.6874434   0.03454662 -0.39138073 -0.94181519 -0.67181528  1.57430642]\n",
            "[0.         0.03454662 0.         0.         0.         1.57430642]\n"
          ],
          "name": "stdout"
        }
      ]
    },
    {
      "cell_type": "markdown",
      "metadata": {
        "id": "aThCp2tZxz8F",
        "colab_type": "text"
      },
      "source": [
        "Inserting bias"
      ]
    },
    {
      "cell_type": "code",
      "metadata": {
        "id": "ahpBZTByv9JC",
        "colab_type": "code",
        "outputId": "6c6798e1-a682-41ea-dbfe-74a20ec47846",
        "colab": {
          "base_uri": "https://localhost:8080/",
          "height": 56
        }
      },
      "source": [
        "phi_X  = np.insert(X_train, 0, [1], axis=1)\n",
        "phi_Xv = np.insert(X_valid, 0, [1], axis=1)\n",
        "phi_Xt = np.insert(X_test, 0, [1], axis=1)\n",
        "#-------------------\n",
        "print(X_train.shape)\n",
        "print(phi_X.shape)"
      ],
      "execution_count": 27,
      "outputs": [
        {
          "output_type": "stream",
          "text": [
            "(48000, 500)\n",
            "(48000, 501)\n"
          ],
          "name": "stdout"
        }
      ]
    },
    {
      "cell_type": "markdown",
      "metadata": {
        "id": "OQZhar82WoJG",
        "colab_type": "text"
      },
      "source": [
        "\"Training\" loop"
      ]
    },
    {
      "cell_type": "code",
      "metadata": {
        "id": "3Ax87ugm3lAW",
        "colab_type": "code",
        "colab": {}
      },
      "source": [
        "acc_his = []\n",
        "loss_his = []\n",
        "for alpha in alpha_interval:\n",
        "    loss, zero_one_error = train_and_val(phi_X, y_train_oh, phi_Xv, y_valid_oh, y_valid, alpha)\n",
        "    loss_his.append(loss)\n",
        "    acc_his.append(1 - zero_one_error)"
      ],
      "execution_count": 0,
      "outputs": []
    },
    {
      "cell_type": "markdown",
      "metadata": {
        "id": "z7dZCFvICMB6",
        "colab_type": "text"
      },
      "source": [
        "# 4. Plot loss and accuracy"
      ]
    },
    {
      "cell_type": "code",
      "metadata": {
        "id": "tU7Euwl8af2V",
        "colab_type": "code",
        "colab": {}
      },
      "source": [
        "# directory path to save figures\n",
        "path_alpha = root_dir + 'figures/alpha/'"
      ],
      "execution_count": 0,
      "outputs": []
    },
    {
      "cell_type": "markdown",
      "metadata": {
        "id": "9RvUhG00d6AT",
        "colab_type": "text"
      },
      "source": [
        "### 4.1 Loss (Mean Squared Error)"
      ]
    },
    {
      "cell_type": "code",
      "metadata": {
        "id": "JmkQvJwNAkRi",
        "colab_type": "code",
        "outputId": "faf8b9eb-c17b-4176-cfb9-b0eb4e9327fe",
        "colab": {
          "base_uri": "https://localhost:8080/",
          "height": 299
        }
      },
      "source": [
        "# plot training and validation accuracy\n",
        "#plt.semilogx(alpha_interval, loss_his, 'o', basex=10, color='blue')\n",
        "plt.semilogx(alpha_interval, loss_his, basex=10, color='cornflowerblue')\n",
        "#-------------------------------------------------\n",
        "# axis label\n",
        "plt.xlabel('regularization coefficient')\n",
        "plt.ylabel('Validation mean squared error')\n",
        "# title\n",
        "plt.title('MSE progression')\n",
        "#-------------------------------------------------\n",
        "#plt.autoscale(axis='x', tight=True) # axis adjust\n",
        "plt.grid(True, which='both') # add grid\n",
        "plt.savefig(path_alpha + 'alpha_MSE_coarse_search.png', dpi=300)\n",
        "plt.show()"
      ],
      "execution_count": 30,
      "outputs": [
        {
          "output_type": "display_data",
          "data": {
            "image/png": "[encoded data removed]",
            "text/plain": [
              "<Figure size 432x288 with 1 Axes>"
            ]
          },
          "metadata": {
            "tags": [],
            "needs_background": "light"
          }
        }
      ]
    },
    {
      "cell_type": "markdown",
      "metadata": {
        "id": "x-chd3wBeF8c",
        "colab_type": "text"
      },
      "source": [
        "### 4.2 Accuracy"
      ]
    },
    {
      "cell_type": "code",
      "metadata": {
        "id": "A99zIg4E7Y2u",
        "colab_type": "code",
        "outputId": "19b7e479-ec3a-4797-cfd7-7d511f719450",
        "colab": {
          "base_uri": "https://localhost:8080/",
          "height": 299
        }
      },
      "source": [
        "# plot training and validation accuracy\n",
        "plt.semilogx(alpha_interval, acc_his, basex=10, color='blue')\n",
        "#-------------------------------------------------\n",
        "# axis label\n",
        "plt.xlabel('regularization coefficient')\n",
        "plt.ylabel('Accuracy')\n",
        "# title\n",
        "plt.title('Accuracy progression')\n",
        "#-------------------------------------------------\n",
        "#plt.autoscale(axis='x', tight=True) # axis adjust\n",
        "plt.grid(True, which='both') # add grid\n",
        "plt.savefig(path_alpha + 'alpha_ACCURACY_coarse_search.png', dpi=300)\n",
        "plt.show()"
      ],
      "execution_count": 31,
      "outputs": [
        {
          "output_type": "display_data",
          "data": {
            "image/png": "[encoded data removed]",
            "text/plain": [
              "<Figure size 432x288 with 1 Axes>"
            ]
          },
          "metadata": {
            "tags": [],
            "needs_background": "light"
          }
        }
      ]
    },
    {
      "cell_type": "markdown",
      "metadata": {
        "id": "Is6MDZ6VCZhr",
        "colab_type": "text"
      },
      "source": [
        "# 5. Fine tuning in alpha"
      ]
    },
    {
      "cell_type": "markdown",
      "metadata": {
        "id": "KYk6CkvgeLCq",
        "colab_type": "text"
      },
      "source": [
        "### 5.1 Loss (Mean Squared Error)"
      ]
    },
    {
      "cell_type": "code",
      "metadata": {
        "id": "xnYOTKtGdzVc",
        "colab_type": "code",
        "outputId": "15449e30-772c-4120-dfa0-6ed814f14a38",
        "colab": {
          "base_uri": "https://localhost:8080/",
          "height": 56
        }
      },
      "source": [
        "min_loss = np.argmin(loss_his)\n",
        "best_alpha_mse = alpha_interval[min_loss]\n",
        "print('index for minimum loss:', min_loss)\n",
        "print('alpha for minimum loss:', best_alpha_mse)"
      ],
      "execution_count": 32,
      "outputs": [
        {
          "output_type": "stream",
          "text": [
            "index for minimum loss: 8\n",
            "alpha for minimum loss: 64\n"
          ],
          "name": "stdout"
        }
      ]
    },
    {
      "cell_type": "code",
      "metadata": {
        "id": "huF9Tjqkeih1",
        "colab_type": "code",
        "outputId": "0c50a8eb-f419-49ff-ee43-b851fd6c2b8b",
        "colab": {
          "base_uri": "https://localhost:8080/",
          "height": 36
        }
      },
      "source": [
        "# define interval of search\n",
        "a = alpha_interval[min_loss - 1]\n",
        "b = alpha_interval[min_loss + 1]\n",
        "d = 1e-1\n",
        "# search for the optimum alpha\n",
        "mse_alpha_best, mse_alpha_his, mse_alpha_loss = \\\n",
        "    find_alpha(phi_X, y_train_oh, phi_Xv, y_valid_oh, y_valid, a, b, d, Je=train_and_val, criterion='loss')\n",
        "print('optimum regularization coefficient for best MSE:', mse_alpha_best)"
      ],
      "execution_count": 33,
      "outputs": [
        {
          "output_type": "stream",
          "text": [
            "optimum regularization coefficient for best MSE: 102.65191359559469\n"
          ],
          "name": "stdout"
        }
      ]
    },
    {
      "cell_type": "code",
      "metadata": {
        "id": "TD_6nQRiKLhy",
        "colab_type": "code",
        "colab": {}
      },
      "source": [
        "# ordering alpha history\n",
        "order_mse = np.argsort(mse_alpha_his)\n",
        "xs_mse = np.array(mse_alpha_his)[order_mse]\n",
        "ys_mse = np.array(mse_alpha_loss)[order_mse]"
      ],
      "execution_count": 0,
      "outputs": []
    },
    {
      "cell_type": "code",
      "metadata": {
        "id": "0IGP6qV1ANJm",
        "colab_type": "code",
        "outputId": "32f949a5-3fbe-4e28-eb41-0642d2609356",
        "colab": {
          "base_uri": "https://localhost:8080/",
          "height": 299
        }
      },
      "source": [
        "# plot training and validation accuracy\n",
        "plt.semilogx(xs_mse, ys_mse, basex=10, color='cornflowerblue')\n",
        "#-------------------------------------------------\n",
        "# axis label\n",
        "plt.xlabel('regularization coefficient')\n",
        "plt.ylabel('Validation mean squared error')\n",
        "# title\n",
        "plt.title('MSE progression')\n",
        "#-------------------------------------------------\n",
        "#plt.autoscale(axis='x', tight=True) # axis adjust\n",
        "plt.grid(True, which='both') # add grid\n",
        "plt.savefig(path_alpha + 'alpha_MSE_fine_search.png', dpi=300)\n",
        "plt.show()"
      ],
      "execution_count": 35,
      "outputs": [
        {
          "output_type": "display_data",
          "data": {
            "image/png": "[encoded data removed]",
            "text/plain": [
              "<Figure size 432x288 with 1 Axes>"
            ]
          },
          "metadata": {
            "tags": [],
            "needs_background": "light"
          }
        }
      ]
    },
    {
      "cell_type": "markdown",
      "metadata": {
        "colab_type": "text",
        "id": "vNfsjwXH8Qz0"
      },
      "source": [
        "### 5.2 Accuracy"
      ]
    },
    {
      "cell_type": "code",
      "metadata": {
        "colab_type": "code",
        "outputId": "38e59d66-726c-4326-a3b8-d536ec605a9c",
        "id": "Grnuikej8Q0H",
        "colab": {
          "base_uri": "https://localhost:8080/",
          "height": 56
        }
      },
      "source": [
        "max_acc = np.argmax(acc_his)\n",
        "best_alpha_acc = alpha_interval[max_acc]\n",
        "print('index for maximum accuracy:', max_acc)\n",
        "print('alpha for maximum accuracy:', best_alpha_acc)"
      ],
      "execution_count": 36,
      "outputs": [
        {
          "output_type": "stream",
          "text": [
            "index for maximum accuracy: 9\n",
            "alpha for maximum accuracy: 256\n"
          ],
          "name": "stdout"
        }
      ]
    },
    {
      "cell_type": "code",
      "metadata": {
        "colab_type": "code",
        "outputId": "ad143821-6d9a-494d-df96-b3ac572aac1f",
        "id": "GdOz4Ivk8Q0k",
        "colab": {
          "base_uri": "https://localhost:8080/",
          "height": 36
        }
      },
      "source": [
        "# define interval of search\n",
        "a = alpha_interval[max_acc - 1]\n",
        "b = alpha_interval[max_acc + 1]\n",
        "d = 1e-1\n",
        "# search for the optimum alpha\n",
        "acc_alpha_best, acc_alpha_his, acc_alpha_acc = \\\n",
        "    find_alpha(phi_X, y_train_oh, phi_Xv, y_valid_oh, y_valid, a, b, d, Je=train_and_val, criterion='accuracy')\n",
        "print('optimum regularization coefficient for best accuracy:', acc_alpha_best)"
      ],
      "execution_count": 37,
      "outputs": [
        {
          "output_type": "stream",
          "text": [
            "optimum regularization coefficient for best accuracy: 662.7290611286521\n"
          ],
          "name": "stdout"
        }
      ]
    },
    {
      "cell_type": "code",
      "metadata": {
        "id": "jFiOYDy4MM4m",
        "colab_type": "code",
        "colab": {}
      },
      "source": [
        "# ordering alpha history\n",
        "order_acc = np.argsort(acc_alpha_his)\n",
        "xs_acc = np.array(acc_alpha_his)[order_acc]\n",
        "ys_acc = 1 - (np.asarray(acc_alpha_acc))[order_acc]"
      ],
      "execution_count": 0,
      "outputs": []
    },
    {
      "cell_type": "code",
      "metadata": {
        "id": "SGcGYeMdAml5",
        "colab_type": "code",
        "outputId": "7c85bd36-f6c7-4b1c-dbfc-b547f1c6f4c7",
        "colab": {
          "base_uri": "https://localhost:8080/",
          "height": 298
        }
      },
      "source": [
        "# plot training and validation accuracy\n",
        "plt.semilogx(xs_acc, ys_acc, basex=10, color='blue')\n",
        "#-------------------------------------------------\n",
        "# axis label\n",
        "plt.xlabel('regularization coefficient')\n",
        "plt.ylabel('Accuracy')\n",
        "# title\n",
        "plt.title('Accuracy progression')\n",
        "#-------------------------------------------------\n",
        "#plt.autoscale(axis='x', tight=True) # axis adjust\n",
        "plt.grid(True, which='both') # add grid\n",
        "plt.savefig(path_alpha + 'alpha_ACCURACY_fine_search.png', dpi=300)\n",
        "plt.show()"
      ],
      "execution_count": 39,
      "outputs": [
        {
          "output_type": "display_data",
          "data": {
            "image/png": "[encoded data removed]",
            "text/plain": [
              "<Figure size 432x288 with 1 Axes>"
            ]
          },
          "metadata": {
            "tags": [],
            "needs_background": "light"
          }
        }
      ]
    },
    {
      "cell_type": "markdown",
      "metadata": {
        "id": "iYYvBgzCFrc7",
        "colab_type": "text"
      },
      "source": [
        "## 6. Final \"training\""
      ]
    },
    {
      "cell_type": "markdown",
      "metadata": {
        "id": "jNlNHCdYKF4p",
        "colab_type": "text"
      },
      "source": [
        "## 6.1 Calculate W with all data (training + validation)"
      ]
    },
    {
      "cell_type": "code",
      "metadata": {
        "id": "ChlXirM1H7T0",
        "colab_type": "code",
        "outputId": "2c841461-1d32-41e6-f5b1-6afe44c75bc9",
        "colab": {
          "base_uri": "https://localhost:8080/",
          "height": 36
        }
      },
      "source": [
        "# merge training and validation features\n",
        "phi_final = np.concatenate((phi_X, phi_Xv), axis=0)\n",
        "# merge training and validation labels\n",
        "y_final_oh = np.concatenate((y_train_oh, y_valid_oh), axis=0)\n",
        "# calculate weights matrix\n",
        "W_final = pseudoinverse(phi_final, y_final_oh, alpha=acc_alpha_best)\n",
        "#-------------------\n",
        "print(W_final.shape)"
      ],
      "execution_count": 40,
      "outputs": [
        {
          "output_type": "stream",
          "text": [
            "(501, 10)\n"
          ],
          "name": "stdout"
        }
      ]
    },
    {
      "cell_type": "markdown",
      "metadata": {
        "id": "7uqAhXGkLOdQ",
        "colab_type": "text"
      },
      "source": [
        "Save W matrix in a txt file"
      ]
    },
    {
      "cell_type": "code",
      "metadata": {
        "id": "QgQ0DJlEH3Bq",
        "colab_type": "code",
        "colab": {}
      },
      "source": [
        "# directory path to save W matrix\n",
        "path_txt = root_dir + 'w118430.txt'\n",
        "np.savetxt(fname=path_txt, X=W_final, delimiter=', ', newline='\\n')"
      ],
      "execution_count": 0,
      "outputs": []
    },
    {
      "cell_type": "markdown",
      "metadata": {
        "id": "yy7hVQOhCSor",
        "colab_type": "text"
      },
      "source": [
        "## 6.2 Heatmap"
      ]
    },
    {
      "cell_type": "code",
      "metadata": {
        "id": "FAFUyxF8597I",
        "colab_type": "code",
        "colab": {}
      },
      "source": [
        "# # delete bias line\n",
        "# W_plot = np.delete(W_final, 0, axis=0)\n",
        "# # directory path to save figures\n",
        "# path_heatmap = root_dir + 'figures/heatmap/'\n",
        "# #-------------------\n",
        "# print(W_plot.shape)"
      ],
      "execution_count": 0,
      "outputs": []
    },
    {
      "cell_type": "code",
      "metadata": {
        "id": "nYhsRieHOmhy",
        "colab_type": "code",
        "colab": {}
      },
      "source": [
        "# for number in range(10):\n",
        "#     plot_heatmap(number, path_heatmap)"
      ],
      "execution_count": 0,
      "outputs": []
    },
    {
      "cell_type": "markdown",
      "metadata": {
        "id": "9BqvkVcwFv6N",
        "colab_type": "text"
      },
      "source": [
        "# 7. Metrics on test set"
      ]
    },
    {
      "cell_type": "code",
      "metadata": {
        "id": "xz0GyiVCRhLn",
        "colab_type": "code",
        "colab": {}
      },
      "source": [
        "# calculate labels prediction\n",
        "y_test_logits = phi_Xt @ W_final\n",
        "y_pred = (np.argmax(y_test_logits, axis=1) + 1) % 10\n",
        "# get label of real output\n",
        "#y_true = enc.inverse_transform(y_test_oh)\n",
        "y_true = get_label(y_test_oh)"
      ],
      "execution_count": 0,
      "outputs": []
    },
    {
      "cell_type": "markdown",
      "metadata": {
        "id": "y5ypu787G60Y",
        "colab_type": "text"
      },
      "source": [
        "## 7.1 Accuracy, precision and recall"
      ]
    },
    {
      "cell_type": "code",
      "metadata": {
        "id": "Zl9Rff03RWgf",
        "colab_type": "code",
        "colab": {}
      },
      "source": [
        "acc = accuracy_score(y_true, y_pred)\n",
        "prec = precision_score(y_true, y_pred, average='macro')\n",
        "recall = recall_score(y_true, y_pred, average='macro')"
      ],
      "execution_count": 0,
      "outputs": []
    },
    {
      "cell_type": "code",
      "metadata": {
        "id": "6xiEelS7SNqM",
        "colab_type": "code",
        "outputId": "cb2c430d-a7b3-4dad-eecc-ad3314dcce36",
        "colab": {
          "base_uri": "https://localhost:8080/",
          "height": 75
        }
      },
      "source": [
        "print('Accuracy score = {0:.4f}'.format(acc))\n",
        "print('Precision score = {0:.4f}'.format(prec))\n",
        "print('Recall score = {0:.4f}'.format(recall))"
      ],
      "execution_count": 46,
      "outputs": [
        {
          "output_type": "stream",
          "text": [
            "Accuracy score = 0.9194\n",
            "Precision score = 0.9189\n",
            "Recall score = 0.9184\n"
          ],
          "name": "stdout"
        }
      ]
    },
    {
      "cell_type": "markdown",
      "metadata": {
        "id": "Z9wwPQw1G-HT",
        "colab_type": "text"
      },
      "source": [
        "## 7.2 Confusion Matrix"
      ]
    },
    {
      "cell_type": "code",
      "metadata": {
        "id": "8lyPiGYvVBfq",
        "colab_type": "code",
        "colab": {}
      },
      "source": [
        "cm = confusion_matrix(y_true, y_pred)\n",
        "classes = ['#0', '#1', '#2', '#3', '#4', '#5', '#6', '#7', '#8', '#9']\n",
        "# directory path to save figures\n",
        "path_cm = root_dir + 'figures/cm/'"
      ],
      "execution_count": 0,
      "outputs": []
    },
    {
      "cell_type": "code",
      "metadata": {
        "id": "fDlo5g7VRW3L",
        "colab_type": "code",
        "outputId": "ac56ac71-8c20-465c-8d21-7e8eca78fb39",
        "colab": {
          "base_uri": "https://localhost:8080/",
          "height": 475
        }
      },
      "source": [
        "# CM raw\n",
        "cm_raw = print_confusion_matrix(cm, classes, title='Confusion Matrix', normalize=False, cmap=plt.cm.Blues, fontsize=15, figsize = (10,7))\n",
        "cm_raw.savefig(path_cm + 'cm_raw', dpi=300, bbox_inches='tight')"
      ],
      "execution_count": 48,
      "outputs": [
        {
          "output_type": "display_data",
          "data": {
            "image/png": "[encoded data removed]",
            "text/plain": [
              "<Figure size 720x504 with 2 Axes>"
            ]
          },
          "metadata": {
            "tags": [],
            "needs_background": "light"
          }
        }
      ]
    },
    {
      "cell_type": "code",
      "metadata": {
        "id": "o3r51SvlShEe",
        "colab_type": "code",
        "outputId": "4480f8f2-e79c-4962-b85a-c80800fdb994",
        "colab": {
          "base_uri": "https://localhost:8080/",
          "height": 473
        }
      },
      "source": [
        "# CM normalized\n",
        "cm_norm = print_confusion_matrix(cm, classes, title='Confusion Matrix normalized', normalize=True, cmap=plt.cm.Blues, fontsize=14, figsize = (10,7))\n",
        "cm_norm.savefig(path_cm + 'cm_norm', dpi=300, bbox_inches='tight')"
      ],
      "execution_count": 49,
      "outputs": [
        {
          "output_type": "display_data",
          "data": {
            "image/png": "[encoded data removed]",
            "text/plain": [
              "<Figure size 720x504 with 2 Axes>"
            ]
          },
          "metadata": {
            "tags": [],
            "needs_background": "light"
          }
        }
      ]
    },
    {
      "cell_type": "markdown",
      "metadata": {
        "id": "IfMH4YBGHUHJ",
        "colab_type": "text"
      },
      "source": [
        "## 7.3 F1-score (macro, micro and weighted)"
      ]
    },
    {
      "cell_type": "code",
      "metadata": {
        "id": "hgDJ5Wb5Gu2s",
        "colab_type": "code",
        "colab": {}
      },
      "source": [
        "macro = f1_score(y_true, y_pred, average='macro')\n",
        "micro = f1_score(y_true, y_pred, average='micro')\n",
        "weighted = f1_score(y_true, y_pred, average='weighted')"
      ],
      "execution_count": 0,
      "outputs": []
    },
    {
      "cell_type": "code",
      "metadata": {
        "id": "izufsZlRSICk",
        "colab_type": "code",
        "outputId": "53936dea-60a4-401d-df11-61dc2c74068c",
        "colab": {
          "base_uri": "https://localhost:8080/",
          "height": 75
        }
      },
      "source": [
        "print('F1-score macro = {0:.4f}'.format(macro))\n",
        "print('F1-score micro = {0:.4f}'.format(micro))\n",
        "print('F1-score weighted = {0:.4f}'.format(weighted))"
      ],
      "execution_count": 51,
      "outputs": [
        {
          "output_type": "stream",
          "text": [
            "F1-score macro = 0.9184\n",
            "F1-score micro = 0.9194\n",
            "F1-score weighted = 0.9192\n"
          ],
          "name": "stdout"
        }
      ]
    },
    {
      "cell_type": "markdown",
      "metadata": {
        "id": "WeH8s78Nvp5I",
        "colab_type": "text"
      },
      "source": [
        "## 8. Plot misclassified numbers"
      ]
    },
    {
      "cell_type": "code",
      "metadata": {
        "id": "4FqkskQEUj39",
        "colab_type": "code",
        "colab": {}
      },
      "source": [
        "# directory path to save misclassified digits\n",
        "path_misclassified = root_dir + 'figures/misclassified/'"
      ],
      "execution_count": 0,
      "outputs": []
    },
    {
      "cell_type": "code",
      "metadata": {
        "id": "s_xooJfecBly",
        "colab_type": "code",
        "colab": {}
      },
      "source": [
        "# get one-dimension y_true\n",
        "y_true_final = np.squeeze(y_true.reshape(1,-1))\n",
        "# get index of misclassified digits\n",
        "misclass_idx = np.nonzero(y_true_final != y_pred)[0]\n",
        "# create empty array\n",
        "misclass_array = np.zeros((len(misclass_idx), 10))\n",
        "diff_array = np.zeros((len(misclass_idx)))\n",
        "# remove the logits of the real class\n",
        "for i, index in enumerate(misclass_idx):    \n",
        "    # array with all logits except the one of the real class\n",
        "    misclass_array[i] = y_test_logits[index]\n",
        "    # array with the difference between logits of real and predicted class\n",
        "    diff_array[i] = np.max(misclass_array[i]) - y_test_logits[index][y_true_final[index]-1]\n",
        "most_wrong_idx = np.argsort(diff_array)"
      ],
      "execution_count": 0,
      "outputs": []
    },
    {
      "cell_type": "code",
      "metadata": {
        "id": "QKKb2rgAc5TI",
        "colab_type": "code",
        "outputId": "78d498ed-9aaf-4225-d3a8-b2e2c0237689",
        "colab": {
          "base_uri": "https://localhost:8080/",
          "height": 1000
        }
      },
      "source": [
        "for i in range(30):\n",
        "    index = misclass_idx[most_wrong_idx[-i]]\n",
        "    #index = misclass_idx[3]\n",
        "    print('real class:', y_true_final[index])\n",
        "    print('predicted class:', y_pred[index])\n",
        "    print('output for class ', str(y_true_final[index]), ': ', '{0:.4f}'.format(y_test_logits[index][y_true_final[index]-1]), sep='')\n",
        "    print('output for class ', str(y_pred[index]), ': ', '{0:.4f}'.format(y_test_logits[index][y_pred[index]-1]), sep='')\n",
        "    data = X_test_raw[index].reshape(28,28).T\n",
        "    #plt.imshow(data, interpolation='nearest')\n",
        "    plt.imshow(data, cmap='Greys_r')\n",
        "    plt.savefig(path_misclassified + str(i) + '.png', dpi=300)\n",
        "    plt.show()"
      ],
      "execution_count": 54,
      "outputs": [
        {
          "output_type": "stream",
          "text": [
            "real class: 4\n",
            "predicted class: 6\n",
            "output for class 4: 0.2512\n",
            "output for class 6: 0.2513\n"
          ],
          "name": "stdout"
        },
        {
          "output_type": "display_data",
          "data": {
            "image/png": "[encoded data removed]",
            "text/plain": [
              "<Figure size 432x288 with 1 Axes>"
            ]
          },
          "metadata": {
            "tags": [],
            "needs_background": "light"
          }
        },
        {
          "output_type": "stream",
          "text": [
            "real class: 8\n",
            "predicted class: 4\n",
            "output for class 8: 0.1619\n",
            "output for class 4: 0.9888\n"
          ],
          "name": "stdout"
        },
        {
          "output_type": "display_data",
          "data": {
            "image/png": "[encoded data removed]",
            "text/plain": [
              "<Figure size 432x288 with 1 Axes>"
            ]
          },
          "metadata": {
            "tags": [],
            "needs_background": "light"
          }
        },
        {
          "output_type": "stream",
          "text": [
            "real class: 4\n",
            "predicted class: 9\n",
            "output for class 4: 0.1436\n",
            "output for class 9: 0.9495\n"
          ],
          "name": "stdout"
        },
        {
          "output_type": "display_data",
          "data": {
            "image/png": "[encoded data removed]",
            "text/plain": [
              "<Figure size 432x288 with 1 Axes>"
            ]
          },
          "metadata": {
            "tags": [],
            "needs_background": "light"
          }
        },
        {
          "output_type": "stream",
          "text": [
            "real class: 9\n",
            "predicted class: 3\n",
            "output for class 9: -0.1179\n",
            "output for class 3: 0.6751\n"
          ],
          "name": "stdout"
        },
        {
          "output_type": "display_data",
          "data": {
            "image/png": "[encoded data removed]",
            "text/plain": [
              "<Figure size 432x288 with 1 Axes>"
            ]
          },
          "metadata": {
            "tags": [],
            "needs_background": "light"
          }
        },
        {
          "output_type": "stream",
          "text": [
            "real class: 4\n",
            "predicted class: 9\n",
            "output for class 4: 0.1230\n",
            "output for class 9: 0.8915\n"
          ],
          "name": "stdout"
        },
        {
          "output_type": "display_data",
          "data": {
            "image/png": "[encoded data removed]",
            "text/plain": [
              "<Figure size 432x288 with 1 Axes>"
            ]
          },
          "metadata": {
            "tags": [],
            "needs_background": "light"
          }
        },
        {
          "output_type": "stream",
          "text": [
            "real class: 2\n",
            "predicted class: 8\n",
            "output for class 2: 0.0884\n",
            "output for class 8: 0.8104\n"
          ],
          "name": "stdout"
        },
        {
          "output_type": "display_data",
          "data": {
            "image/png": "[encoded data removed]",
            "text/plain": [
              "<Figure size 432x288 with 1 Axes>"
            ]
          },
          "metadata": {
            "tags": [],
            "needs_background": "light"
          }
        },
        {
          "output_type": "stream",
          "text": [
            "real class: 3\n",
            "predicted class: 7\n",
            "output for class 3: 0.1483\n",
            "output for class 7: 0.8298\n"
          ],
          "name": "stdout"
        },
        {
          "output_type": "display_data",
          "data": {
            "image/png": "[encoded data removed]",
            "text/plain": [
              "<Figure size 432x288 with 1 Axes>"
            ]
          },
          "metadata": {
            "tags": [],
            "needs_background": "light"
          }
        },
        {
          "output_type": "stream",
          "text": [
            "real class: 5\n",
            "predicted class: 0\n",
            "output for class 5: -0.0881\n",
            "output for class 0: 0.5842\n"
          ],
          "name": "stdout"
        },
        {
          "output_type": "display_data",
          "data": {
            "image/png": "[encoded data removed]",
            "text/plain": [
              "<Figure size 432x288 with 1 Axes>"
            ]
          },
          "metadata": {
            "tags": [],
            "needs_background": "light"
          }
        },
        {
          "output_type": "stream",
          "text": [
            "real class: 2\n",
            "predicted class: 4\n",
            "output for class 2: 0.0342\n",
            "output for class 4: 0.6741\n"
          ],
          "name": "stdout"
        },
        {
          "output_type": "display_data",
          "data": {
            "image/png": "[encoded data removed]",
            "text/plain": [
              "<Figure size 432x288 with 1 Axes>"
            ]
          },
          "metadata": {
            "tags": [],
            "needs_background": "light"
          }
        },
        {
          "output_type": "stream",
          "text": [
            "real class: 5\n",
            "predicted class: 9\n",
            "output for class 5: 0.3775\n",
            "output for class 9: 1.0134\n"
          ],
          "name": "stdout"
        },
        {
          "output_type": "display_data",
          "data": {
            "image/png": "[encoded data removed]",
            "text/plain": [
              "<Figure size 432x288 with 1 Axes>"
            ]
          },
          "metadata": {
            "tags": [],
            "needs_background": "light"
          }
        },
        {
          "output_type": "stream",
          "text": [
            "real class: 3\n",
            "predicted class: 7\n",
            "output for class 3: 0.0171\n",
            "output for class 7: 0.6423\n"
          ],
          "name": "stdout"
        },
        {
          "output_type": "display_data",
          "data": {
            "image/png": "[encoded data removed]",
            "text/plain": [
              "<Figure size 432x288 with 1 Axes>"
            ]
          },
          "metadata": {
            "tags": [],
            "needs_background": "light"
          }
        },
        {
          "output_type": "stream",
          "text": [
            "real class: 5\n",
            "predicted class: 6\n",
            "output for class 5: -0.0582\n",
            "output for class 6: 0.5606\n"
          ],
          "name": "stdout"
        },
        {
          "output_type": "display_data",
          "data": {
            "image/png": "[encoded data removed]",
            "text/plain": [
              "<Figure size 432x288 with 1 Axes>"
            ]
          },
          "metadata": {
            "tags": [],
            "needs_background": "light"
          }
        },
        {
          "output_type": "stream",
          "text": [
            "real class: 4\n",
            "predicted class: 6\n",
            "output for class 4: 0.0790\n",
            "output for class 6: 0.6811\n"
          ],
          "name": "stdout"
        },
        {
          "output_type": "display_data",
          "data": {
            "image/png": "[encoded data removed]",
            "text/plain": [
              "<Figure size 432x288 with 1 Axes>"
            ]
          },
          "metadata": {
            "tags": [],
            "needs_background": "light"
          }
        },
        {
          "output_type": "stream",
          "text": [
            "real class: 9\n",
            "predicted class: 4\n",
            "output for class 9: -0.1047\n",
            "output for class 4: 0.4933\n"
          ],
          "name": "stdout"
        },
        {
          "output_type": "display_data",
          "data": {
            "image/png": "[encoded data removed]",
            "text/plain": [
              "<Figure size 432x288 with 1 Axes>"
            ]
          },
          "metadata": {
            "tags": [],
            "needs_background": "light"
          }
        },
        {
          "output_type": "stream",
          "text": [
            "real class: 5\n",
            "predicted class: 6\n",
            "output for class 5: -0.0802\n",
            "output for class 6: 0.5133\n"
          ],
          "name": "stdout"
        },
        {
          "output_type": "display_data",
          "data": {
            "image/png": "[encoded data removed]",
            "text/plain": [
              "<Figure size 432x288 with 1 Axes>"
            ]
          },
          "metadata": {
            "tags": [],
            "needs_background": "light"
          }
        },
        {
          "output_type": "stream",
          "text": [
            "real class: 7\n",
            "predicted class: 9\n",
            "output for class 7: -0.0817\n",
            "output for class 9: 0.5070\n"
          ],
          "name": "stdout"
        },
        {
          "output_type": "display_data",
          "data": {
            "image/png": "[encoded data removed]",
            "text/plain": [
              "<Figure size 432x288 with 1 Axes>"
            ]
          },
          "metadata": {
            "tags": [],
            "needs_background": "light"
          }
        },
        {
          "output_type": "stream",
          "text": [
            "real class: 9\n",
            "predicted class: 3\n",
            "output for class 9: -0.0617\n",
            "output for class 3: 0.5201\n"
          ],
          "name": "stdout"
        },
        {
          "output_type": "display_data",
          "data": {
            "image/png": "[encoded data removed]",
            "text/plain": [
              "<Figure size 432x288 with 1 Axes>"
            ]
          },
          "metadata": {
            "tags": [],
            "needs_background": "light"
          }
        },
        {
          "output_type": "stream",
          "text": [
            "real class: 2\n",
            "predicted class: 0\n",
            "output for class 2: 0.1054\n",
            "output for class 0: 0.6859\n"
          ],
          "name": "stdout"
        },
        {
          "output_type": "display_data",
          "data": {
            "image/png": "[encoded data removed]",
            "text/plain": [
              "<Figure size 432x288 with 1 Axes>"
            ]
          },
          "metadata": {
            "tags": [],
            "needs_background": "light"
          }
        },
        {
          "output_type": "stream",
          "text": [
            "real class: 2\n",
            "predicted class: 7\n",
            "output for class 2: 0.0524\n",
            "output for class 7: 0.6276\n"
          ],
          "name": "stdout"
        },
        {
          "output_type": "display_data",
          "data": {
            "image/png": "[encoded data removed]",
            "text/plain": [
              "<Figure size 432x288 with 1 Axes>"
            ]
          },
          "metadata": {
            "tags": [],
            "needs_background": "light"
          }
        },
        {
          "output_type": "stream",
          "text": [
            "real class: 6\n",
            "predicted class: 5\n",
            "output for class 6: 0.0162\n",
            "output for class 5: 0.5902\n"
          ],
          "name": "stdout"
        },
        {
          "output_type": "display_data",
          "data": {
            "image/png": "[encoded data removed]",
            "text/plain": [
              "<Figure size 432x288 with 1 Axes>"
            ]
          },
          "metadata": {
            "tags": [],
            "needs_background": "light"
          }
        },
        {
          "output_type": "stream",
          "text": [
            "real class: 2\n",
            "predicted class: 0\n",
            "output for class 2: 0.1143\n",
            "output for class 0: 0.6871\n"
          ],
          "name": "stdout"
        },
        {
          "output_type": "display_data",
          "data": {
            "image/png": "[encoded data removed]",
            "text/plain": [
              "<Figure size 432x288 with 1 Axes>"
            ]
          },
          "metadata": {
            "tags": [],
            "needs_background": "light"
          }
        },
        {
          "output_type": "stream",
          "text": [
            "real class: 8\n",
            "predicted class: 3\n",
            "output for class 8: 0.0670\n",
            "output for class 3: 0.6346\n"
          ],
          "name": "stdout"
        },
        {
          "output_type": "display_data",
          "data": {
            "image/png": "[encoded data removed]",
            "text/plain": [
              "<Figure size 432x288 with 1 Axes>"
            ]
          },
          "metadata": {
            "tags": [],
            "needs_background": "light"
          }
        },
        {
          "output_type": "stream",
          "text": [
            "real class: 8\n",
            "predicted class: 7\n",
            "output for class 8: 0.0713\n",
            "output for class 7: 0.6317\n"
          ],
          "name": "stdout"
        },
        {
          "output_type": "display_data",
          "data": {
            "image/png": "[encoded data removed]",
            "text/plain": [
              "<Figure size 432x288 with 1 Axes>"
            ]
          },
          "metadata": {
            "tags": [],
            "needs_background": "light"
          }
        },
        {
          "output_type": "stream",
          "text": [
            "real class: 9\n",
            "predicted class: 3\n",
            "output for class 9: 0.0149\n",
            "output for class 3: 0.5732\n"
          ],
          "name": "stdout"
        },
        {
          "output_type": "display_data",
          "data": {
            "image/png": "[encoded data removed]",
            "text/plain": [
              "<Figure size 432x288 with 1 Axes>"
            ]
          },
          "metadata": {
            "tags": [],
            "needs_background": "light"
          }
        },
        {
          "output_type": "stream",
          "text": [
            "real class: 1\n",
            "predicted class: 3\n",
            "output for class 1: 0.0298\n",
            "output for class 3: 0.5772\n"
          ],
          "name": "stdout"
        },
        {
          "output_type": "display_data",
          "data": {
            "image/png": "[encoded data removed]",
            "text/plain": [
              "<Figure size 432x288 with 1 Axes>"
            ]
          },
          "metadata": {
            "tags": [],
            "needs_background": "light"
          }
        },
        {
          "output_type": "stream",
          "text": [
            "real class: 4\n",
            "predicted class: 9\n",
            "output for class 4: 0.0571\n",
            "output for class 9: 0.6041\n"
          ],
          "name": "stdout"
        },
        {
          "output_type": "display_data",
          "data": {
            "image/png": "[encoded data removed]",
            "text/plain": [
              "<Figure size 432x288 with 1 Axes>"
            ]
          },
          "metadata": {
            "tags": [],
            "needs_background": "light"
          }
        },
        {
          "output_type": "stream",
          "text": [
            "real class: 2\n",
            "predicted class: 6\n",
            "output for class 2: -0.0963\n",
            "output for class 6: 0.4445\n"
          ],
          "name": "stdout"
        },
        {
          "output_type": "display_data",
          "data": {
            "image/png": "[encoded data removed]",
            "text/plain": [
              "<Figure size 432x288 with 1 Axes>"
            ]
          },
          "metadata": {
            "tags": [],
            "needs_background": "light"
          }
        },
        {
          "output_type": "stream",
          "text": [
            "real class: 4\n",
            "predicted class: 9\n",
            "output for class 4: 0.1967\n",
            "output for class 9: 0.7305\n"
          ],
          "name": "stdout"
        },
        {
          "output_type": "display_data",
          "data": {
            "image/png": "[encoded data removed]",
            "text/plain": [
              "<Figure size 432x288 with 1 Axes>"
            ]
          },
          "metadata": {
            "tags": [],
            "needs_background": "light"
          }
        },
        {
          "output_type": "stream",
          "text": [
            "real class: 3\n",
            "predicted class: 9\n",
            "output for class 3: -0.1477\n",
            "output for class 9: 0.3825\n"
          ],
          "name": "stdout"
        },
        {
          "output_type": "display_data",
          "data": {
            "image/png": "[encoded data removed]",
            "text/plain": [
              "<Figure size 432x288 with 1 Axes>"
            ]
          },
          "metadata": {
            "tags": [],
            "needs_background": "light"
          }
        },
        {
          "output_type": "stream",
          "text": [
            "real class: 7\n",
            "predicted class: 2\n",
            "output for class 7: 0.0689\n",
            "output for class 2: 0.5985\n"
          ],
          "name": "stdout"
        },
        {
          "output_type": "display_data",
          "data": {
            "image/png": "[encoded data removed]",
            "text/plain": [
              "<Figure size 432x288 with 1 Axes>"
            ]
          },
          "metadata": {
            "tags": [],
            "needs_background": "light"
          }
        }
      ]
    },
    {
      "cell_type": "markdown",
      "metadata": {
        "id": "3fy068N6VCuH",
        "colab_type": "text"
      },
      "source": [
        "# End of the notebook"
      ]
    }
  ]
}