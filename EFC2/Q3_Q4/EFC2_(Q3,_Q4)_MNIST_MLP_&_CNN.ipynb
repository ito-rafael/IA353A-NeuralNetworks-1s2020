{
  "nbformat": 4,
  "nbformat_minor": 0,
  "metadata": {
    "colab": {
      "name": "EFC2 (Q3, Q4) - MNIST MLP & CNN.ipynb",
      "provenance": [],
      "collapsed_sections": []
    },
    "kernelspec": {
      "name": "python3",
      "display_name": "Python 3"
    },
    "accelerator": "GPU"
  },
  "cells": [
    {
      "cell_type": "markdown",
      "metadata": {
        "id": "aibQMqn3rEp8",
        "colab_type": "text"
      },
      "source": [
        "# EFC2: MNIST MLP and CNN Classifier"
      ]
    },
    {
      "cell_type": "markdown",
      "metadata": {
        "id": "399F2GKforfi",
        "colab_type": "text"
      },
      "source": [
        "Author: **Rafael Ito**  \n",
        "e-mail: ito.rafael@gmail.com"
      ]
    },
    {
      "cell_type": "markdown",
      "metadata": {
        "id": "eV7swfVuBvgm",
        "colab_type": "text"
      },
      "source": [
        "# 0. Dataset and Description\n",
        "\n",
        "**Name:**  MNIST  \n",
        "**Description:** this notebook uses the MNIST database to perform an Multilayer Perceptron (MLP) classifier and a Convolutional Neural Network (CNN) with the aim of image classification of handwritten digits. We use the validation set to choose the hyperparameters."
      ]
    },
    {
      "cell_type": "markdown",
      "metadata": {
        "id": "ZnLtgkmhr0y0",
        "colab_type": "text"
      },
      "source": [
        "# 1. Libraries and packages"
      ]
    },
    {
      "cell_type": "markdown",
      "metadata": {
        "id": "wF94hPU1HWt9",
        "colab_type": "text"
      },
      "source": [
        "## 1.1 Install packages"
      ]
    },
    {
      "cell_type": "code",
      "metadata": {
        "id": "44YWHZaqwDo4",
        "colab_type": "code",
        "colab": {
          "base_uri": "https://localhost:8080/",
          "height": 36
        },
        "outputId": "0658944a-be3f-47d3-cd17-bcf7a817a6d1"
      },
      "source": [
        "!pip install -q    \\\n",
        "    numpy          \\\n",
        "    sklearn        \\\n",
        "    matplotlib     \\\n",
        "    tensorflow      \\\n",
        "    tensorflow-determinism"
      ],
      "execution_count": 1,
      "outputs": [
        {
          "output_type": "stream",
          "text": [
            "  Building wheel for tensorflow-determinism (setup.py) ... \u001b[?25l\u001b[?25hdone\n"
          ],
          "name": "stdout"
        }
      ]
    },
    {
      "cell_type": "markdown",
      "metadata": {
        "id": "F-lNBFD0HcPb",
        "colab_type": "text"
      },
      "source": [
        "## 1.2 Import libraries"
      ]
    },
    {
      "cell_type": "code",
      "metadata": {
        "id": "XYPw4vBWq_nd",
        "colab_type": "code",
        "colab": {}
      },
      "source": [
        "#-------------------------------------------------\n",
        "# general\n",
        "#-------------------\n",
        "import numpy as np\n",
        "import tensorflow as tf\n",
        "import os\n",
        "from multiprocessing import cpu_count\n",
        "from sklearn.model_selection import train_test_split\n",
        "import matplotlib.pyplot as plt\n",
        "#-------------------------------------------------\n",
        "# additional config\n",
        "#-------------------\n",
        "# random seed generator\n",
        "os.environ['PYTHONHASHSEED']=str(42)\n",
        "np.random.seed(42)\n",
        "tf.random.set_seed(42)\n",
        "os.environ['TF_DETERMINISTIC_OPS'] = '1'"
      ],
      "execution_count": 0,
      "outputs": []
    },
    {
      "cell_type": "markdown",
      "metadata": {
        "id": "bLsN9htxXH7h",
        "colab_type": "text"
      },
      "source": [
        "## Check Device"
      ]
    },
    {
      "cell_type": "code",
      "metadata": {
        "id": "4hDTSxwjXIsl",
        "colab_type": "code",
        "outputId": "ea8c5191-aa41-4b5f-b96d-f67a37ad14b2",
        "colab": {
          "base_uri": "https://localhost:8080/",
          "height": 94
        }
      },
      "source": [
        "# choose between CPU and GPU\n",
        "device = tf.device('/cpu:0')\n",
        "if tf.config.list_physical_devices('GPU'):\n",
        "    device = tf.device('/device:GPU:0')\n",
        "#    device_model = torch.cuda.get_device_name(0)\n",
        "#    device_memory = torch.cuda.get_device_properties(device).total_memory / 1e9\n",
        "    device_number = len(tf.config.experimental.list_physical_devices('GPU'))\n",
        "    #----------------------------\n",
        "    #from tensorflow.python.client import device_lib\n",
        "    #device_lib.list_local_devices()\n",
        "    #----------------------------\n",
        "    print('Device: gpu')\n",
        "    #print('GPU model:', device_model)\n",
        "    #print('GPU memory: {0:.2f} GB'.format(device_memory))\n",
        "    print(\"GPUs available: \", device_number)\n",
        "    print('#-------------------')\n",
        "print('CPU cores:', cpu_count())"
      ],
      "execution_count": 3,
      "outputs": [
        {
          "output_type": "stream",
          "text": [
            "Device: gpu\n",
            "GPUs available:  1\n",
            "#-------------------\n",
            "CPU cores: 2\n"
          ],
          "name": "stdout"
        }
      ]
    },
    {
      "cell_type": "markdown",
      "metadata": {
        "id": "qQhnv9q-sJsn",
        "colab_type": "text"
      },
      "source": [
        "# 2. MLP approach"
      ]
    },
    {
      "cell_type": "markdown",
      "metadata": {
        "id": "tLh40EkEz_il",
        "colab_type": "text"
      },
      "source": [
        "## 2.1 Professor's reference implementation"
      ]
    },
    {
      "cell_type": "markdown",
      "metadata": {
        "id": "pwIK3o56n5tk",
        "colab_type": "text"
      },
      "source": [
        "The following code is the professor's suggestion with the following modifications:\n",
        " - encapsulated all code inside a function;\n",
        " - included seed as function parameter;\n",
        " - included device as parameter (to run on CPU/GPU);\n",
        " - set NumPy and TensorFlow seed;\n",
        " - removed the 'import' lines;\n",
        " - added 'verbose = 0' during training and evaluation;\n",
        " - included a 'print' section;\n",
        " - inserted comments;\n",
        " - commented the part where the model and its weigths are saved in a file\n"
      ]
    },
    {
      "cell_type": "code",
      "metadata": {
        "colab_type": "code",
        "id": "JC80Pr2SkAda",
        "colab": {}
      },
      "source": [
        "def mlp_train_professor(device, seed=42):\n",
        "    with device:\n",
        "        # define RNG seed\n",
        "        np.random.seed(seed)\n",
        "        tf.random.set_seed(seed)\n",
        "        #----------------------------\n",
        "        # getting the dataset\n",
        "        mnist = tf.keras.datasets.mnist\n",
        "        (x_train, y_train), (x_test, y_test) = mnist.load_data()\n",
        "        x_train, x_test = x_train / 255.0, x_test / 255.0\n",
        "        #----------------------------\n",
        "        # defining the model\n",
        "        model = tf.keras.models.Sequential([\n",
        "            tf.keras.layers.Flatten(),\n",
        "            tf.keras.layers.Dense(512, activation=tf.nn.relu),\n",
        "            tf.keras.layers.Dropout(0.5),\n",
        "            tf.keras.layers.Dense(10, activation=tf.nn.softmax)\n",
        "        ])\n",
        "        #----------------------------\n",
        "        # training configuration\n",
        "        model.compile(\n",
        "            optimizer='adam',\n",
        "            loss='sparse_categorical_crossentropy',\n",
        "            metrics=['accuracy']\n",
        "        )\n",
        "        #----------------------------\n",
        "        # training\n",
        "        model.fit(x_train, y_train, epochs=5, verbose=0)\n",
        "        #----------------------------\n",
        "        # evaluation\n",
        "        loss, accuracy = model.evaluate(x_test, y_test, verbose=0)\n",
        "        #----------------------------\n",
        "        # saving the model and weights\n",
        "        #model_json = model.to_json()\n",
        "        #json_file = open(\"model_MLP.json\", \"w\")\n",
        "        #json_file.write(model_json)\n",
        "        #json_file.close()\n",
        "        #model.save_weights(\"model_MLP.h5\")\n",
        "        #print(\"Model save\")\n",
        "        #----------------------------\n",
        "        print('seed = ', str(seed), '; '\n",
        "            'loss = ', '{0:.4f}'.format(loss), '; '\n",
        "            'accuracy = ', '{0:.4f}'.format(accuracy), sep='')\n",
        "        #----------------------------\n",
        "        return loss, accuracy"
      ],
      "execution_count": 0,
      "outputs": []
    },
    {
      "cell_type": "markdown",
      "metadata": {
        "id": "3NtmOLVG36X4",
        "colab_type": "text"
      },
      "source": [
        "Running the model 10 times to get an average loss and an average accuracy"
      ]
    },
    {
      "cell_type": "code",
      "metadata": {
        "id": "iOkMIIJ6lzPg",
        "colab_type": "code",
        "outputId": "9859c4af-6fcb-4fd1-dc67-d83fc4e42fe4",
        "colab": {
          "base_uri": "https://localhost:8080/",
          "height": 249
        }
      },
      "source": [
        "seeds = range(10)\n",
        "loss_his_mlp_prof = []\n",
        "acc_his_mlp_prof = []\n",
        "#----------------------------\n",
        "for seed in seeds:\n",
        "    loss, acc = mlp_train_professor(device, seed=seed)\n",
        "    # append both loss and accuracy in a list for comparison\n",
        "    loss_his_mlp_prof.append(loss)\n",
        "    acc_his_mlp_prof.append(acc)"
      ],
      "execution_count": 5,
      "outputs": [
        {
          "output_type": "stream",
          "text": [
            "Downloading data from https://storage.googleapis.com/tensorflow/tf-keras-datasets/mnist.npz\n",
            "11493376/11490434 [==============================] - 0s 0us/step\n",
            "seed = 0; loss = 0.0644; accuracy = 0.9797\n",
            "seed = 1; loss = 0.0726; accuracy = 0.9775\n",
            "seed = 2; loss = 0.0624; accuracy = 0.9821\n",
            "seed = 3; loss = 0.0666; accuracy = 0.9800\n",
            "seed = 4; loss = 0.0651; accuracy = 0.9801\n",
            "seed = 5; loss = 0.0700; accuracy = 0.9800\n",
            "seed = 6; loss = 0.0748; accuracy = 0.9786\n",
            "seed = 7; loss = 0.0720; accuracy = 0.9783\n",
            "seed = 8; loss = 0.0693; accuracy = 0.9795\n",
            "seed = 9; loss = 0.0680; accuracy = 0.9789\n"
          ],
          "name": "stdout"
        }
      ]
    },
    {
      "cell_type": "markdown",
      "metadata": {
        "id": "2glGs2MOR_Ai",
        "colab_type": "text"
      },
      "source": [
        "Getting the average loss and accuracy of the 10 executions"
      ]
    },
    {
      "cell_type": "code",
      "metadata": {
        "id": "nt1g6h50nuDS",
        "colab_type": "code",
        "outputId": "06625d5c-544e-4a85-80c7-40b959bf0a6c",
        "colab": {
          "base_uri": "https://localhost:8080/",
          "height": 56
        }
      },
      "source": [
        "print('Loss average = {0:.4f}'.format(np.mean(loss_his_mlp_prof)))\n",
        "print('Accuracy average = {0:.4f}'.format(np.mean(acc_his_mlp_prof)))"
      ],
      "execution_count": 6,
      "outputs": [
        {
          "output_type": "stream",
          "text": [
            "Loss average = 0.0685\n",
            "Accuracy average = 0.9795\n"
          ],
          "name": "stdout"
        }
      ]
    },
    {
      "cell_type": "markdown",
      "metadata": {
        "id": "QUe_-sFjUF7G",
        "colab_type": "text"
      },
      "source": [
        "## 2.2 My implementation"
      ]
    },
    {
      "cell_type": "code",
      "metadata": {
        "id": "1ifvKAeFUJ0-",
        "colab_type": "code",
        "colab": {}
      },
      "source": [
        "def mlp_train(device, seed=42, verbose=False):\n",
        "    with device:\n",
        "        # define RNG seed\n",
        "        np.random.seed(seed)\n",
        "        tf.random.set_seed(seed)\n",
        "        #----------------------------\n",
        "        # getting the dataset\n",
        "        mnist = tf.keras.datasets.mnist\n",
        "        (x_train_raw, y_train_raw), (x_test, y_test) = mnist.load_data()\n",
        "        x_train_raw, x_test = x_train_raw / 255.0, x_test / 255.0\n",
        "        #----------------------------\n",
        "        # train-dev split\n",
        "        x_train, x_dev, y_train, y_dev = train_test_split(\n",
        "            x_train_raw,\n",
        "            y_train_raw,\n",
        "            test_size=0.2,\n",
        "            random_state=seed,\n",
        "            shuffle=True)\n",
        "        #----------------------------\n",
        "        # defining the model\n",
        "        model = tf.keras.models.Sequential([\n",
        "            tf.keras.layers.Flatten(),\n",
        "            tf.keras.layers.Dense(\n",
        "                800,\n",
        "                #kernel_initializer=tf.random_normal_initializer(mean=0.0, stddev=0.05, seed=seed),\n",
        "                kernel_initializer=tf.keras.initializers.GlorotNormal(seed=seed),\n",
        "                bias_initializer='zeros',\n",
        "                activation=tf.nn.relu),\n",
        "            tf.keras.layers.Dropout(0.5),\n",
        "            tf.keras.layers.Dense(10, activation=tf.nn.softmax)\n",
        "        ])\n",
        "        #----------------------------\n",
        "        # early-stopping\n",
        "        callback_stop = tf.keras.callbacks.EarlyStopping(\n",
        "            monitor='val_loss', \n",
        "            patience=10,\n",
        "            mode='min',\n",
        "            verbose=verbose,\n",
        "            restore_best_weights=True\n",
        "        )\n",
        "        #----------------------------\n",
        "        # optmizer\n",
        "        opt_adam = tf.keras.optimizers.Adam(learning_rate=5e-4)\n",
        "        #----------------------------\n",
        "        # learning rate schedule\n",
        "        # lr = 0.0005 for the first 15 epochs and decreases exponentially after that\n",
        "        def scheduler(epoch):\n",
        "            if epoch < 15:\n",
        "                return 0.0005\n",
        "            else:\n",
        "                return 0.0005 * tf.math.exp(0.05 * (15 - epoch))\n",
        "        callback_schedule = tf.keras.callbacks.LearningRateScheduler(scheduler)\n",
        "        #----------------------------\n",
        "        # training configuration\n",
        "        model.compile(\n",
        "            optimizer=opt_adam,\n",
        "            loss='sparse_categorical_crossentropy',\n",
        "            metrics=['accuracy']\n",
        "        )\n",
        "        #----------------------------\n",
        "        # training\n",
        "        model.fit(x_train, y_train, \n",
        "            #batch_size=512,\n",
        "            batch_size=128,\n",
        "            epochs=100, \n",
        "            verbose=verbose,\n",
        "            callbacks=[callback_stop, callback_schedule], \n",
        "            validation_data=(x_dev, y_dev))\n",
        "        #----------------------------\n",
        "        # evaluation in test set\n",
        "        loss, accuracy = model.evaluate(x_test, y_test, verbose=verbose)\n",
        "        # evaluation in training set\n",
        "        _, accuracy_train = model.evaluate(x_train_raw, y_train_raw, verbose=verbose)\n",
        "        #----------------------------\n",
        "        # saving the model and weights\n",
        "        #model_json = model.to_json()\n",
        "        #json_file = open(\"model_MLP.json\", \"w\")\n",
        "        #json_file.write(model_json)\n",
        "        #json_file.close()\n",
        "        #model.save_weights(\"model_MLP.h5\")\n",
        "        #print(\"Model save\")\n",
        "        #----------------------------\n",
        "        print('seed = ', str(seed), '; '\n",
        "            'loss = ', '{0:.4f}'.format(loss), '; '\n",
        "            'accuracy = ', '{0:.4f}'.format(accuracy), '; '\n",
        "            'accuracy train = ', '{0:.4f}'.format(accuracy_train), sep='')\n",
        "        #----------------------------\n",
        "        return loss, accuracy, accuracy_train"
      ],
      "execution_count": 0,
      "outputs": []
    },
    {
      "cell_type": "markdown",
      "metadata": {
        "colab_type": "text",
        "id": "eBNaSVWUSOnA"
      },
      "source": [
        "Running the model 10 times to get an average loss and accuracy"
      ]
    },
    {
      "cell_type": "code",
      "metadata": {
        "colab_type": "code",
        "outputId": "6a018a73-a5c2-4d8a-a5ca-5b736ef136a8",
        "id": "e4GOYxXEUQl9",
        "colab": {
          "base_uri": "https://localhost:8080/",
          "height": 211
        }
      },
      "source": [
        "seeds = range(10)\n",
        "loss_his_mlp = []\n",
        "acc_his_mlp = []\n",
        "acc_his_mlp_train = []\n",
        "#----------------------------\n",
        "for seed in seeds:\n",
        "    loss, acc, acc_train = mlp_train(device, seed=seed)\n",
        "    # append both loss and accuracy in a list for comparison\n",
        "    loss_his_mlp.append(loss)\n",
        "    acc_his_mlp.append(acc)\n",
        "    acc_his_mlp_train.append(acc_train)"
      ],
      "execution_count": 8,
      "outputs": [
        {
          "output_type": "stream",
          "text": [
            "seed = 0; loss = 0.0564; accuracy = 0.9829; accuracy train = 0.9957\n",
            "seed = 1; loss = 0.0597; accuracy = 0.9822; accuracy train = 0.9962\n",
            "seed = 2; loss = 0.0591; accuracy = 0.9829; accuracy train = 0.9968\n",
            "seed = 3; loss = 0.0564; accuracy = 0.9839; accuracy train = 0.9962\n",
            "seed = 4; loss = 0.0541; accuracy = 0.9845; accuracy train = 0.9968\n",
            "seed = 5; loss = 0.0575; accuracy = 0.9830; accuracy train = 0.9951\n",
            "seed = 6; loss = 0.0543; accuracy = 0.9837; accuracy train = 0.9962\n",
            "seed = 7; loss = 0.0608; accuracy = 0.9819; accuracy train = 0.9958\n",
            "seed = 8; loss = 0.0575; accuracy = 0.9823; accuracy train = 0.9952\n",
            "seed = 9; loss = 0.0574; accuracy = 0.9837; accuracy train = 0.9964\n"
          ],
          "name": "stdout"
        }
      ]
    },
    {
      "cell_type": "markdown",
      "metadata": {
        "colab_type": "text",
        "id": "Po1LJDHmSMMU"
      },
      "source": [
        "Getting the average loss and accuracy of the 10 executions"
      ]
    },
    {
      "cell_type": "code",
      "metadata": {
        "colab_type": "code",
        "outputId": "e272232c-3aa0-4533-d274-549af5c9ec3a",
        "id": "n6gtjmss32pY",
        "colab": {
          "base_uri": "https://localhost:8080/",
          "height": 75
        }
      },
      "source": [
        "print('Loss average = {0:.4f}'.format(np.mean(loss_his_mlp)))\n",
        "print('Accuracy average = {0:.4f}'.format(np.mean(acc_his_mlp)))\n",
        "print('Accuracy average (training set) = {0:.4f}'.format(np.mean(acc_his_mlp_train)))"
      ],
      "execution_count": 9,
      "outputs": [
        {
          "output_type": "stream",
          "text": [
            "Loss average = 0.0573\n",
            "Accuracy average = 0.9831\n",
            "Accuracy average (training set) = 0.9960\n"
          ],
          "name": "stdout"
        }
      ]
    },
    {
      "cell_type": "markdown",
      "metadata": {
        "id": "rsAA5BR7Uf6x",
        "colab_type": "text"
      },
      "source": [
        "## 2.3 Results comparison"
      ]
    },
    {
      "cell_type": "markdown",
      "metadata": {
        "id": "KLTu604gU7Ac",
        "colab_type": "text"
      },
      "source": [
        "The next table compares the accuracy metric on the test set of the two implementations: the professor's reference implementation and the developed implementation.\n",
        "\n",
        "| seed | reference acc | developed acc | dev. acc (train) |\n",
        "|:---: | :-----------: | :-----------: | :--------------: |\n",
        "|   0  |     0.9797    |     0.9829    |      0.9957      |\n",
        "|   1  |     0.9775    |     0.9822    |      0.9962      |\n",
        "|   2  |     0.9821    |     0.9829    |      0.9968      |\n",
        "|   3  |     0.9800    |     0.9839    |      0.9962      |\n",
        "|   4  |     0.9801    |     0.9845    |      0.9968      |\n",
        "|   5  |     0.9800    |     0.9830    |      0.9951      |\n",
        "|   6  |     0.9786    |     0.9837    |      0.9962      |\n",
        "|   7  |     0.9783    |     0.9819    |      0.9958      |\n",
        "|   8  |     0.9795    |     0.9823    |      0.9952      |\n",
        "|   9  |     0.9789    |     0.9837    |      0.9964      |"
      ]
    },
    {
      "cell_type": "markdown",
      "metadata": {
        "id": "C77uoJ6A4o2Z",
        "colab_type": "text"
      },
      "source": [
        "The next table shows the mean of 10 trainings of each implementation's accuracy:\n",
        "\n",
        "|      | reference acc | developed acc | dev. acc (train) |\n",
        "|:---: | :-----------: | :-----------: | :--------------: |\n",
        "| mean |    0.9795     |    0.9831     |      0.9960      |"
      ]
    },
    {
      "cell_type": "code",
      "metadata": {
        "id": "WNA2vw_d6vZQ",
        "colab_type": "code",
        "outputId": "8de20ab8-01fc-4306-e161-a5ec01bc827d",
        "colab": {
          "base_uri": "https://localhost:8080/",
          "height": 295
        }
      },
      "source": [
        "# plot both implementation's accuracy for different seeds\n",
        "plt.plot(acc_his_mlp_prof, label='professor\\'s reference', color='blue')\n",
        "plt.plot(acc_his_mlp, label='my implementation', color='red')\n",
        "plt.plot(acc_his_mlp_train, label='my implementation (training set)', color='green')\n",
        "#-------------------------------------------------\n",
        "# axis label\n",
        "plt.xlabel('Seed used')\n",
        "plt.ylabel('Accuracy on test set')\n",
        "# title\n",
        "plt.title('Comparison between MLP implementations')\n",
        "#-------------------------------------------------\n",
        "plt.autoscale(axis='x', tight=True) # axis adjust\n",
        "plt.grid(True) # add grid\n",
        "plt.legend() # add legend\n",
        "plt.show()"
      ],
      "execution_count": 10,
      "outputs": [
        {
          "output_type": "display_data",
          "data": {
            "image/png": "[encoded data removed]",
            "text/plain": [
              "<Figure size 432x288 with 1 Axes>"
            ]
          },
          "metadata": {
            "tags": [],
            "needs_background": "light"
          }
        }
      ]
    },
    {
      "cell_type": "markdown",
      "metadata": {
        "id": "xMhnZlmJUXBI",
        "colab_type": "text"
      },
      "source": [
        "## 2.4 How I achieved my final network setup"
      ]
    },
    {
      "cell_type": "markdown",
      "metadata": {
        "id": "H7kFOQbxP0Wu",
        "colab_type": "text"
      },
      "source": [
        "### 2.4.1 Modifications"
      ]
    },
    {
      "cell_type": "markdown",
      "metadata": {
        "id": "NGqQl6_naSXb",
        "colab_type": "text"
      },
      "source": [
        "\n",
        "Obs.: The accuracy reported was obtained with the test set after the training. The random seed used for all experiments was 42.\n",
        "\n",
        "___\n",
        "\n",
        "**1.** Increased neurons of hidden layer to 800. Changed weights initialization to a normal distribution with standard deviation of 0.05. Final accuracy = 0.9767.\n",
        "\n",
        "**2.** Changed the number of epochs to 10. Final accuracy = 0.9821.\n",
        "\n",
        "**3.** Split the trainig set (60,000 samples) in training (48,000 samples) and development set (12,000 samples). Added early-stopping with patience of 3 epochs. Final accuracy = 0.9803.\n",
        "\n",
        "**4.** Set learning rate of Adam optimizer to 0.0005. Final accuracy = 0.9819.\n",
        "\n",
        "**5.** Changed weights initialization to normal Glorot. Final accuracy = 0.9810.\n",
        "\n",
        "**6.** Increased batch size to 128. Final accuracy = 0.9817.\n",
        "\n",
        "**7.** Added a schedule to decrease the learning rate exponentially after 15 epochs. Also changed early stop to return the best model and increased the patience to 10 epochs. Final accuracy = 0.9825.\n",
        "\n",
        "**8.** Increased batch size to 512. Final accuracy = 0.9819.\n",
        "\n",
        "___\n",
        "\n",
        "Since the training accuracy was already in a very high value (0.9964), I decided to stop the experiments here. Before training the model 10 times for more stable results, the batch size was changed back to 128."
      ]
    },
    {
      "cell_type": "markdown",
      "metadata": {
        "id": "hMq6qQm0P772",
        "colab_type": "text"
      },
      "source": [
        "### 2.4.2 References"
      ]
    },
    {
      "cell_type": "markdown",
      "metadata": {
        "id": "c1tUivhTX4gq",
        "colab_type": "text"
      },
      "source": [
        "Yann LeCun has compiled in his own page [1] a list with results, error obtained and paper associated, considering the MNIST dataset. \n",
        "\n",
        "The best results (less than 1% error) all use elastic distortions on the images (except [2], that uses unsupervised pre-training). The best results without using distortions and using only a neural network approach is [3] and a 3-Layer NN by Hinton. Since [3] uses only 2 layers, I decided to use as a guide to my solution.\n",
        "\n",
        "This way, it was choosen 800 neurons for the hidden layer and a weight initialization considering a normal distribution with standard deviation of 0.05, as described in the step 1 of the previous cell. The following modifications were empirical and based on 'trial and error' approach.\n",
        "\n",
        "___\n",
        "\n",
        "[1] http://yann.lecun.com/exdb/mnist/  \n",
        "[2] Deng, Li / Yu, Dong (2011): \"Deep convex net: a scalable architecture for speech pattern classification\", In INTERSPEECH-2011, 2285-2288.  \n",
        "[3] Simard, Patrice Y., David Steinkraus, and John C. Platt. \"Best practices for convolutional neural networks applied to visual document analysis.\" Icdar. Vol. 3. No. 2003. 2003."
      ]
    },
    {
      "cell_type": "markdown",
      "metadata": {
        "colab_type": "text",
        "id": "oeq9H8RfE0Xm"
      },
      "source": [
        "# 3. CNN approach"
      ]
    },
    {
      "cell_type": "markdown",
      "metadata": {
        "colab_type": "text",
        "id": "n5ixRE-gE0Xw"
      },
      "source": [
        "## 3.1 Professor's reference implementation"
      ]
    },
    {
      "cell_type": "markdown",
      "metadata": {
        "colab_type": "text",
        "id": "suQv45cBPiBz"
      },
      "source": [
        "Just like the MLP approach, the following code is the professor's suggestion with the same modifications applied before."
      ]
    },
    {
      "cell_type": "code",
      "metadata": {
        "id": "4nTnuSo6E38G",
        "colab_type": "code",
        "colab": {}
      },
      "source": [
        "def cnn_train_professor(device, seed=42):\n",
        "    with device:\n",
        "        # define RNG seed\n",
        "        np.random.seed(seed)\n",
        "        tf.random.set_seed(seed)\n",
        "        #----------------------------\n",
        "        # getting the dataset\n",
        "        mnist = tf.keras.datasets.mnist\n",
        "        (x_train, y_train),(x_test, y_test) = mnist.load_data()\n",
        "        # reshape to be [samples][width][height][pixels]\n",
        "        x_train = x_train.reshape(x_train.shape[0], 28, 28, 1)\n",
        "        x_test = x_test.reshape(x_test.shape[0], 28, 28, 1)\n",
        "        x_train, x_test = x_train / 255.0, x_test / 255.0\n",
        "        #----------------------------\n",
        "        # defining the model\n",
        "        model = tf.keras.models.Sequential()\n",
        "        model.add(tf.keras.layers.Conv2D(32, kernel_size=(3, 3), activation='relu', input_shape=(28, 28, 1)))\n",
        "        model.add(tf.keras.layers.Conv2D(64, (3, 3), activation='relu'))\n",
        "        model.add(tf.keras.layers.MaxPooling2D(pool_size=(2, 2)))\n",
        "        model.add(tf.keras.layers.Dropout(0.25))\n",
        "        model.add(tf.keras.layers.Flatten())\n",
        "        model.add(tf.keras.layers.Dense(128, activation='relu'))\n",
        "        model.add(tf.keras.layers.Dropout(0.5))\n",
        "        model.add(tf.keras.layers.Dense(10, activation='softmax'))\n",
        "        #----------------------------\n",
        "        # defining the model\n",
        "        model.compile(\n",
        "            optimizer='adam',\n",
        "            loss='sparse_categorical_crossentropy',\n",
        "            metrics=['accuracy']\n",
        "        )\n",
        "        #----------------------------\n",
        "        # training\n",
        "        model.fit(x_train, y_train, epochs=5, verbose=0)\n",
        "        #----------------------------\n",
        "        # evaluation\n",
        "        loss, accuracy = model.evaluate(x_test, y_test, verbose=0)\n",
        "        #----------------------------\n",
        "        # saving the model and weights\n",
        "        #model_json = model.to_json()\n",
        "        #json_file = open(\"model_CNN.json\", \"w\")\n",
        "        #json_file.write(model_json)\n",
        "        #json_file.close()\n",
        "        #model.save_weights(\"model_CNN.h5\")\n",
        "        #print(\"Model saved to disk\")\n",
        "        #os.getcwd()\n",
        "        #----------------------------\n",
        "        print('seed = ', str(seed), '; ',\n",
        "            'loss = ', '{0:.4f}'.format(loss), '; ',\n",
        "            'accuracy = ', '{0:.4f}'.format(accuracy), sep='')\n",
        "        #----------------------------\n",
        "        return loss, accuracy"
      ],
      "execution_count": 0,
      "outputs": []
    },
    {
      "cell_type": "markdown",
      "metadata": {
        "colab_type": "text",
        "id": "qK14rtmZOt2I"
      },
      "source": [
        "Running the model 10 times to get an average loss and accuracy"
      ]
    },
    {
      "cell_type": "code",
      "metadata": {
        "colab_type": "code",
        "outputId": "0d3d0562-bf23-44c1-fa7d-1e8e4fd8067c",
        "id": "H20RGoFHOt2P",
        "colab": {
          "base_uri": "https://localhost:8080/",
          "height": 211
        }
      },
      "source": [
        "seeds = range(10)\n",
        "loss_his_cnn_prof = []\n",
        "acc_his_cnn_prof = []\n",
        "#----------------------------\n",
        "for seed in seeds:\n",
        "    loss, acc = cnn_train_professor(device, seed=seed)\n",
        "    # append both loss and accuracy in a list for comparison\n",
        "    loss_his_cnn_prof.append(loss)\n",
        "    acc_his_cnn_prof.append(acc)"
      ],
      "execution_count": 12,
      "outputs": [
        {
          "output_type": "stream",
          "text": [
            "seed = 0; loss = 0.0335; accuracy = 0.9891\n",
            "seed = 1; loss = 0.0316; accuracy = 0.9904\n",
            "seed = 2; loss = 0.0338; accuracy = 0.9894\n",
            "seed = 3; loss = 0.0247; accuracy = 0.9920\n",
            "seed = 4; loss = 0.0305; accuracy = 0.9909\n",
            "seed = 5; loss = 0.0314; accuracy = 0.9908\n",
            "seed = 6; loss = 0.0356; accuracy = 0.9897\n",
            "seed = 7; loss = 0.0309; accuracy = 0.9906\n",
            "seed = 8; loss = 0.0305; accuracy = 0.9911\n",
            "seed = 9; loss = 0.0281; accuracy = 0.9911\n"
          ],
          "name": "stdout"
        }
      ]
    },
    {
      "cell_type": "markdown",
      "metadata": {
        "colab_type": "text",
        "id": "3vwk_hFrTZpJ"
      },
      "source": [
        "Getting the average loss and accuracy of the 10 executions"
      ]
    },
    {
      "cell_type": "code",
      "metadata": {
        "id": "a-KQ7tYinNXu",
        "colab_type": "code",
        "outputId": "171400cb-35da-4012-8ff7-24bbc6cc8746",
        "colab": {
          "base_uri": "https://localhost:8080/",
          "height": 56
        }
      },
      "source": [
        "print('Loss average = {0:.4f}'.format(np.mean(loss_his_cnn_prof)))\n",
        "print('Accuracy average = {0:.4f}'.format(np.mean(acc_his_cnn_prof)))"
      ],
      "execution_count": 13,
      "outputs": [
        {
          "output_type": "stream",
          "text": [
            "Loss average = 0.0310\n",
            "Accuracy average = 0.9905\n"
          ],
          "name": "stdout"
        }
      ]
    },
    {
      "cell_type": "markdown",
      "metadata": {
        "colab_type": "text",
        "id": "50uKQVppVCEU"
      },
      "source": [
        "## 3.2 My implementation"
      ]
    },
    {
      "cell_type": "code",
      "metadata": {
        "colab_type": "code",
        "id": "SumivS-GVCEY",
        "colab": {}
      },
      "source": [
        "def cnn_train(device, seed=42, verbose=False):\n",
        "    with device:\n",
        "        # define RNG seed\n",
        "        np.random.seed(seed)\n",
        "        tf.random.set_seed(seed)\n",
        "        #----------------------------\n",
        "        # getting the dataset\n",
        "        mnist = tf.keras.datasets.mnist\n",
        "        (x_train_raw, y_train_raw),(x_test, y_test) = mnist.load_data()\n",
        "        # reshape to be [samples][width][height][pixels]\n",
        "        x_train_raw = x_train_raw.reshape(x_train_raw.shape[0], 28, 28, 1)\n",
        "        x_test = x_test.reshape(x_test.shape[0], 28, 28, 1)\n",
        "        x_train_raw, x_test = x_train_raw / 255.0, x_test / 255.0\n",
        "        #----------------------------\n",
        "        # train-dev split\n",
        "        x_train, x_dev, y_train, y_dev = train_test_split(\n",
        "            x_train_raw,\n",
        "            y_train_raw,\n",
        "            test_size=0.2,\n",
        "            random_state=seed,\n",
        "            shuffle=True)\n",
        "        #----------------------------\n",
        "        # defining the model\n",
        "        model = tf.keras.models.Sequential()\n",
        "        model.add(tf.keras.layers.Conv2D(32, kernel_size=(3, 3), activation='relu', input_shape=(28, 28, 1)))\n",
        "        model.add(tf.keras.layers.MaxPooling2D(pool_size=(2, 2)))\n",
        "        model.add(tf.keras.layers.Dropout(0.50))\n",
        "        #--------------\n",
        "        model.add(tf.keras.layers.Conv2D(64, (3, 3), activation='relu'))\n",
        "        model.add(tf.keras.layers.MaxPooling2D(pool_size=(2, 2)))\n",
        "        model.add(tf.keras.layers.Dropout(0.50))\n",
        "        #--------------\n",
        "        model.add(tf.keras.layers.Flatten())\n",
        "        model.add(tf.keras.layers.Dense(128, activation='relu'))\n",
        "        model.add(tf.keras.layers.Dropout(0.5))\n",
        "        model.add(tf.keras.layers.Dense(10, activation='softmax'))\n",
        "        #----------------------------\n",
        "        # early-stopping\n",
        "        callback_stop = tf.keras.callbacks.EarlyStopping(\n",
        "            monitor='val_loss', \n",
        "            patience=5,\n",
        "            mode='min',\n",
        "            verbose=verbose,\n",
        "            restore_best_weights=True\n",
        "        )\n",
        "        #----------------------------\n",
        "        # optmizer\n",
        "        opt_adam = tf.keras.optimizers.Adam(learning_rate=5e-4)\n",
        "        #----------------------------\n",
        "        # learning rate schedule\n",
        "        # lr = 0.0005 for the first 20 epochs and decreases exponentially after that\n",
        "        def scheduler(epoch):\n",
        "            if epoch < 20:\n",
        "                return 0.0005\n",
        "            else:\n",
        "                return 0.0005 * tf.math.exp(0.1 * (20 - epoch))\n",
        "        callback_schedule = tf.keras.callbacks.LearningRateScheduler(scheduler)\n",
        "        #----------------------------\n",
        "        # defining the model\n",
        "        model.compile(\n",
        "            optimizer=opt_adam,\n",
        "            loss='sparse_categorical_crossentropy',\n",
        "            metrics=['accuracy']\n",
        "        )\n",
        "        #----------------------------\n",
        "        # training\n",
        "        model.fit(x_train, y_train, \n",
        "            epochs=100, \n",
        "            batch_size=64,\n",
        "            callbacks=[callback_stop, callback_schedule], \n",
        "            validation_data=(x_dev, y_dev),\n",
        "            verbose=verbose,\n",
        "        )\n",
        "        #----------------------------\n",
        "        # evaluation in test set\n",
        "        loss, accuracy = model.evaluate(x_test, y_test, verbose=verbose)\n",
        "        # evaluation in training set\n",
        "        _, accuracy_train = model.evaluate(x_train_raw, y_train_raw, verbose=verbose)\n",
        "        #----------------------------\n",
        "        # saving the model and weights\n",
        "        #model_json = model.to_json()\n",
        "        #json_file = open(\"model_CNN.json\", \"w\")\n",
        "        #json_file.write(model_json)\n",
        "        #json_file.close()\n",
        "        #model.save_weights(\"model_CNN.h5\")\n",
        "        #print(\"Model saved to disk\")\n",
        "        #os.getcwd()\n",
        "        #----------------------------\n",
        "        print('seed = ', str(seed), '; ',\n",
        "            'epochs = ', str(callback_stop.stopped_epoch - callback_stop.patience + 1), '; ', \n",
        "            'loss = ', '{0:.4f}'.format(loss), '; ',\n",
        "            'accuracy = ', '{0:.4f}'.format(accuracy), '; '\n",
        "            'accuracy train = ', '{0:.4f}'.format(accuracy_train), sep='')\n",
        "        #----------------------------\n",
        "        return loss, accuracy, accuracy_train\n"
      ],
      "execution_count": 0,
      "outputs": []
    },
    {
      "cell_type": "markdown",
      "metadata": {
        "colab_type": "text",
        "id": "sHsJjY7hVCEj"
      },
      "source": [
        "Running the model 10 times to get an average loss and accuracy"
      ]
    },
    {
      "cell_type": "code",
      "metadata": {
        "colab_type": "code",
        "outputId": "0c483ff4-1775-43af-ab62-b9afe1ac6d6d",
        "id": "lNx6ZeWKVCEk",
        "colab": {
          "base_uri": "https://localhost:8080/",
          "height": 211
        }
      },
      "source": [
        "seeds = range(10)\n",
        "loss_his_cnn = []\n",
        "acc_his_cnn = []\n",
        "acc_his_cnn_train = []\n",
        "#----------------------------\n",
        "for seed in seeds:\n",
        "    loss, acc, acc_train = cnn_train(device, seed=seed)\n",
        "    # append both loss and accuracy in a list for comparison\n",
        "    loss_his_cnn.append(loss)\n",
        "    acc_his_cnn.append(acc)\n",
        "    acc_his_cnn_train.append(acc_train)"
      ],
      "execution_count": 15,
      "outputs": [
        {
          "output_type": "stream",
          "text": [
            "seed = 0; epochs = 29; loss = 0.0205; accuracy = 0.9927; accuracy train = 0.9961\n",
            "seed = 1; epochs = 34; loss = 0.0225; accuracy = 0.9928; accuracy train = 0.9966\n",
            "seed = 2; epochs = 29; loss = 0.0218; accuracy = 0.9932; accuracy train = 0.9961\n",
            "seed = 3; epochs = 46; loss = 0.0180; accuracy = 0.9939; accuracy train = 0.9969\n",
            "seed = 4; epochs = 29; loss = 0.0189; accuracy = 0.9926; accuracy train = 0.9962\n",
            "seed = 5; epochs = 50; loss = 0.0193; accuracy = 0.9934; accuracy train = 0.9971\n",
            "seed = 6; epochs = 39; loss = 0.0190; accuracy = 0.9938; accuracy train = 0.9968\n",
            "seed = 7; epochs = 36; loss = 0.0211; accuracy = 0.9931; accuracy train = 0.9966\n",
            "seed = 8; epochs = 31; loss = 0.0206; accuracy = 0.9934; accuracy train = 0.9962\n",
            "seed = 9; epochs = 30; loss = 0.0212; accuracy = 0.9922; accuracy train = 0.9963\n"
          ],
          "name": "stdout"
        }
      ]
    },
    {
      "cell_type": "markdown",
      "metadata": {
        "colab_type": "text",
        "id": "3_kywRaUTlQi"
      },
      "source": [
        "Getting the average loss and accuracy of the 10 executions"
      ]
    },
    {
      "cell_type": "code",
      "metadata": {
        "colab_type": "code",
        "outputId": "2aaedccf-9223-4c06-a04e-34a674c7c71c",
        "id": "np-dCknfTlQo",
        "colab": {
          "base_uri": "https://localhost:8080/",
          "height": 75
        }
      },
      "source": [
        "print('Loss average = {0:.4f}'.format(np.mean(loss_his_cnn)))\n",
        "print('Accuracy average = {0:.4f}'.format(np.mean(acc_his_cnn)))\n",
        "print('Accuracy average (training set) = {0:.4f}'.format(np.mean(acc_his_cnn_train)))"
      ],
      "execution_count": 16,
      "outputs": [
        {
          "output_type": "stream",
          "text": [
            "Loss average = 0.0203\n",
            "Accuracy average = 0.9931\n",
            "Accuracy average (training set) = 0.9965\n"
          ],
          "name": "stdout"
        }
      ]
    },
    {
      "cell_type": "markdown",
      "metadata": {
        "colab_type": "text",
        "id": "6DQvUGNXVCEy"
      },
      "source": [
        "## 3.3 Results comparison"
      ]
    },
    {
      "cell_type": "markdown",
      "metadata": {
        "colab_type": "text",
        "id": "Et6pP7AXP45a"
      },
      "source": [
        "The next table compares the accuracy metric on the test set of the two implementations: the professor's reference implementation and the developed implementation.\n",
        "\n",
        "| seed | reference acc | developed acc | dev. acc (train) |\n",
        "|:---: | :-----------: | :-----------: | :--------------: |\n",
        "|   0  |    0.9891     |     0.9927    |      0.9961      |\n",
        "|   1  |    0.9904     |     0.9928    |      0.9966      |\n",
        "|   2  |    0.9894     |     0.9932    |      0.9961      |\n",
        "|   3  |    0.9920     |     0.9939    |      0.9969      |\n",
        "|   4  |    0.9909     |     0.9926    |      0.9962      |\n",
        "|   5  |    0.9908     |     0.9934    |      0.9971      |\n",
        "|   6  |    0.9897     |     0.9938    |      0.9968      |\n",
        "|   7  |    0.9906     |     0.9931    |      0.9966      |\n",
        "|   8  |    0.9911     |     0.9934    |      0.9962      |\n",
        "|   9  |    0.9911     |     0.9922    |      0.9963      |"
      ]
    },
    {
      "cell_type": "markdown",
      "metadata": {
        "colab_type": "text",
        "id": "aRoDyug0P45m"
      },
      "source": [
        "The next table shows the mean of 10 trainings of each implementation's accuracy:\n",
        "\n",
        "|      | reference acc | developed acc | dev. acc (train) |\n",
        "|:---: | :-----------: | :-----------: | :--------------: |\n",
        "| mean |    0.9905     |     0.9931    |      0.9965      |"
      ]
    },
    {
      "cell_type": "code",
      "metadata": {
        "id": "BefEdcLr8Sf3",
        "colab_type": "code",
        "outputId": "26831e08-663a-484b-c10c-885e3b22ed08",
        "colab": {
          "base_uri": "https://localhost:8080/",
          "height": 295
        }
      },
      "source": [
        "# plot both implementation's accuracy for different seeds\n",
        "plt.plot(acc_his_cnn_prof, label='professor\\'s reference', color='blue')\n",
        "plt.plot(acc_his_cnn, label='my implementation', color='red')\n",
        "plt.plot(acc_his_cnn_train, label='my implementation (training set)', color='green')\n",
        "#-------------------------------------------------\n",
        "# axis label\n",
        "plt.xlabel('Seed used')\n",
        "plt.ylabel('Accuracy on test set')\n",
        "# title\n",
        "plt.title('Comparison between CNN implementations')\n",
        "#-------------------------------------------------\n",
        "plt.autoscale(axis='x', tight=True) # axis adjust\n",
        "plt.grid(True) # add grid\n",
        "plt.legend() # add legend\n",
        "plt.show()"
      ],
      "execution_count": 17,
      "outputs": [
        {
          "output_type": "display_data",
          "data": {
            "image/png": "[encoded data removed]",
            "text/plain": [
              "<Figure size 432x288 with 1 Axes>"
            ]
          },
          "metadata": {
            "tags": [],
            "needs_background": "light"
          }
        }
      ]
    },
    {
      "cell_type": "markdown",
      "metadata": {
        "colab_type": "text",
        "id": "glKfyFubVCE3"
      },
      "source": [
        "## 3.4 How I achieved my final network setup"
      ]
    },
    {
      "cell_type": "markdown",
      "metadata": {
        "id": "3JzANJmgSDht",
        "colab_type": "text"
      },
      "source": [
        "### 3.4.1 Modifications\n"
      ]
    },
    {
      "cell_type": "markdown",
      "metadata": {
        "colab_type": "text",
        "id": "C6FWbdCFP45v"
      },
      "source": [
        "Obs.: The accuracy reported was obtained with the test set after the training. The random seed used for all experiments was 42.\n",
        "\n",
        "___\n",
        "\n",
        "**1.** The first execution was done without any changes. Accuracy = 0.9902.\n",
        "\n",
        "**2.** Increased dropout from 25% to 50% after second convolutional layer. Final accuracy = 0.9912.\n",
        "\n",
        "**3.** Added max pooling layer and dropout of 50% after first convolutional layer. Final accuracy = 0.9908.\n",
        "\n",
        "**4.** Increased number of epochs from 5 to 10. Final accuracy = 0.9914.\n",
        "\n",
        "**5.** Split the trainig set (60,000 samples) in training (48,000 samples) and development set (12,000 samples). Added early-stopping with patience of 5 epochs. Final accuracy = 0.9928.\n",
        "\n",
        "**6.** Added a schedule to decrease the learning rate exponentially after 20 epochs. Final accuracy = 0.9934.\n",
        "\n",
        "**7.** Increased batch size to 64. Final accuracy = 0.9940."
      ]
    },
    {
      "cell_type": "markdown",
      "metadata": {
        "id": "1Rf_G8aHS5BB",
        "colab_type": "text"
      },
      "source": [
        "### 3.4.2 References"
      ]
    },
    {
      "cell_type": "markdown",
      "metadata": {
        "id": "TVD3S0oQS8EP",
        "colab_type": "text"
      },
      "source": [
        "The same page from Yann LeCun cited before [1] has also results considering convolutional neural networks. However, almost all of the ones with the best results use some kind of distortion (elastic, affine) or use unsupervised pretraining.\n",
        "\n",
        "This way, the modifications were empirical and based on a 'trial and error' approach, considering some well known practices (ex: using development set, early-stopping, learning rate schedule) and trying not to change the network architecture (kernel size, layers, etc).\n",
        "\n",
        "___\n",
        "\n",
        "[1] http://yann.lecun.com/exdb/mnist/"
      ]
    },
    {
      "cell_type": "markdown",
      "metadata": {
        "id": "9F4LrTq74Jge",
        "colab_type": "text"
      },
      "source": [
        "# 4. Comparison between different approaches"
      ]
    },
    {
      "cell_type": "markdown",
      "metadata": {
        "id": "u5Tjgcho4dEQ",
        "colab_type": "text"
      },
      "source": [
        "The next table compares the accuracy on the test set for the following approaches:\n",
        " - Linear Classifier (EFC1, Q1)\n",
        " - Extreme Learning Machine (EFC2, Q2)\n",
        " - Multilayer Perceptron (EFC2, Q3)\n",
        " - Convolutional Neural Network (EFC2, Q4)"
      ]
    },
    {
      "cell_type": "markdown",
      "metadata": {
        "id": "UGtjW5R1COND",
        "colab_type": "text"
      },
      "source": [
        "| approach | accuracy test | accuracy train |\n",
        "|:-------: | :-----------: | :------------: |\n",
        "|  Linear  |    0.8647     |     0.8575     |\n",
        "|   ELM    |    0.9194     |     0.9175     |\n",
        "|   MLP    |    0.9834     |     0.9960     |\n",
        "|   CNN    |    0.9929     |     0.9965     |"
      ]
    },
    {
      "cell_type": "markdown",
      "metadata": {
        "id": "HVndqGQefclb",
        "colab_type": "text"
      },
      "source": [
        "Briefly comments explaining the performance improvement of each approach:\n",
        "- **Linear:** Base model. Performance level achieved due to closed solution that minimizes the MSE and also due to regularization.\n",
        "\n",
        "- **ELM:** Improvements achieved because of the non-linearity added to the model (ReLU units). Regularization via ridge regression also used.\n",
        "\n",
        "- **MLP:** Improvements achieved because now we are training a neural network. Instead of choosing random weights values (like in ELM), now the model adapt the weights aiming the minimization of the error at the output. This is done via error backpropagation. Regularization is also used here (early stopping, dropout).\n",
        "\n",
        "- **CNN:** Improvements achieved because of the convolutional layers. The MLP approach implies that the network will have good results only if the pixels of the new input have similar values to those ones seen during the training. The convolutional layers are able to find features anywhere in the image now, and not to those positions specifically found during the training (translational invariance). The pooling layers are also important to help the network to find a feature in different positions of the image. Finally, the same regularization of MLP also takes place here."
      ]
    },
    {
      "cell_type": "markdown",
      "metadata": {
        "id": "3fy068N6VCuH",
        "colab_type": "text"
      },
      "source": [
        "# End of the notebook"
      ]
    }
  ]
}